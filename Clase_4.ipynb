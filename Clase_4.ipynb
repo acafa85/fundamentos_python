{
  "nbformat": 4,
  "nbformat_minor": 0,
  "metadata": {
    "colab": {
      "name": "Clase 4.ipynb",
      "provenance": [],
      "include_colab_link": true
    },
    "kernelspec": {
      "name": "python3",
      "display_name": "Python 3"
    },
    "language_info": {
      "name": "python"
    }
  },
  "cells": [
    {
      "cell_type": "markdown",
      "metadata": {
        "id": "view-in-github",
        "colab_type": "text"
      },
      "source": [
        "<a href=\"https://colab.research.google.com/github/acafa85/fundamentos_python/blob/main/Clase_4.ipynb\" target=\"_parent\"><img src=\"https://colab.research.google.com/assets/colab-badge.svg\" alt=\"Open In Colab\"/></a>"
      ]
    },
    {
      "cell_type": "markdown",
      "source": [
        "<img src=\"https://raw.githubusercontent.com/ITBA-Python/Certificacion-Profesional-Python/main/assets/clase2/Headers%20c%C3%A1talogo_Mesa%20de%20trabajo%201%20copia%2044.jpg\" width=\"800\">\n",
        "\n",
        "\n",
        "\n",
        "# Certificación profesional de Python\n",
        "\n",
        "# Clase 4\n",
        "\n",
        "El objetivo de la clase es seguir sumando experiencia de trabajo con programación aprendiendo los siguientes temas.\n",
        "\n",
        "*   Listas\n",
        "*   Tuplas\n",
        "*   Diccionarios\n",
        "\n",
        "La clase incluye teoría y práctica sobre cada tema aprendido.\n",
        "\n",
        "<img src=\"https://raw.githubusercontent.com/ITBA-Python/Certificacion-Profesional-Python/main/assets/clase2/LOGOTIPO_sin_fondo_positivo_sin_bajada.png\" width=\"400\">\n",
        "\n"
      ],
      "metadata": {
        "id": "UShQ7MbxF39r"
      }
    },
    {
      "cell_type": "markdown",
      "source": [
        "# Listas y tuplas"
      ],
      "metadata": {
        "id": "iSdhysfhZz05"
      }
    },
    {
      "cell_type": "markdown",
      "source": [
        "## Listas"
      ],
      "metadata": {
        "id": "ud3aeCY9Z1vi"
      }
    },
    {
      "cell_type": "markdown",
      "source": [
        "Las listas son un conjunto ordenado de variables que nos permite almacenar e interactuar tanto individualmente como en el conjunto.\n",
        " \n",
        "Para crear una lista se sigue el siguiente formato:\n",
        "```\n",
        "lista = [variable1, variable2, ... ]\n",
        "```\n",
        "Veamos un ejemplo:\n"
      ],
      "metadata": {
        "id": "WtVGFIwHZ3Zg"
      }
    },
    {
      "cell_type": "code",
      "source": [
        "# Creo una lista con 8 variables\n",
        "lista = [0, 1, 2, \"tres\", 'cuatro', True, False, 0.5]"
      ],
      "metadata": {
        "id": "Qmlt3JYZZ1Qb"
      },
      "execution_count": null,
      "outputs": []
    },
    {
      "cell_type": "markdown",
      "source": [
        "### List Comprehension"
      ],
      "metadata": {
        "id": "6ce-j2J9d9Qn"
      }
    },
    {
      "cell_type": "markdown",
      "source": [
        "También podemos crear una lista utilizando un mecanismo que se llama \"list comprehension\". Este utiliza la estructura for para crear una lista:\n",
        "```python\n",
        "lista = [variable for variable in iterable]\n",
        "```\n",
        "Veamos un ejemplo:"
      ],
      "metadata": {
        "id": "EqafietXcaCX"
      }
    },
    {
      "cell_type": "code",
      "source": [
        "list(range(0,4))"
      ],
      "metadata": {
        "id": "TxFSRKu0rS2O",
        "outputId": "aa439624-7fb4-4127-9b2a-76b129b91acd",
        "colab": {
          "base_uri": "https://localhost:8080/"
        }
      },
      "execution_count": 4,
      "outputs": [
        {
          "output_type": "execute_result",
          "data": {
            "text/plain": [
              "[0, 1, 2, 3]"
            ]
          },
          "metadata": {},
          "execution_count": 4
        }
      ]
    },
    {
      "cell_type": "code",
      "source": [
        "%%time\n",
        "N=5\n",
        "[x==2 for x in range(0,N)]"
      ],
      "metadata": {
        "id": "mBqshqL2rypy",
        "outputId": "459629a1-4272-4d71-89d2-d42be4e1e40e",
        "colab": {
          "base_uri": "https://localhost:8080/"
        }
      },
      "execution_count": 14,
      "outputs": [
        {
          "output_type": "stream",
          "name": "stdout",
          "text": [
            "CPU times: user 65 µs, sys: 8 µs, total: 73 µs\n",
            "Wall time: 78 µs\n"
          ]
        },
        {
          "output_type": "execute_result",
          "data": {
            "text/plain": [
              "[False, False, True, False, False]"
            ]
          },
          "metadata": {},
          "execution_count": 14
        }
      ]
    },
    {
      "cell_type": "code",
      "source": [
        "lista_nueva = []\n",
        "N=5\n",
        "for x in range(0,N):\n",
        "  lista_nueva.append(x**2)"
      ],
      "metadata": {
        "id": "TvHK8QtMsNxD"
      },
      "execution_count": 12,
      "outputs": []
    },
    {
      "cell_type": "code",
      "source": [
        "lista_nueva"
      ],
      "metadata": {
        "id": "qecn-h9KsPht",
        "outputId": "74cac5f5-5ef6-4475-a684-589502155385",
        "colab": {
          "base_uri": "https://localhost:8080/"
        }
      },
      "execution_count": 13,
      "outputs": [
        {
          "output_type": "execute_result",
          "data": {
            "text/plain": [
              "[0, 1, 4, 9, 16]"
            ]
          },
          "metadata": {},
          "execution_count": 13
        }
      ]
    },
    {
      "cell_type": "code",
      "source": [
        "# Creamos una lista con los valores 0, 1, 2, 3 \n",
        "lista = [x for x in range(0,4)]\n",
        "\n",
        "print(lista)\n",
        "\n",
        "# Creamos una lista con los valores 0, 2, 4, 6\n",
        "lista2 = [2*x for x in range(0,4)]\n",
        "\n",
        "print(lista2)"
      ],
      "metadata": {
        "id": "HVqCteY6dOwA"
      },
      "execution_count": null,
      "outputs": []
    },
    {
      "cell_type": "markdown",
      "source": [
        "### Acceso a las varibles"
      ],
      "metadata": {
        "id": "gQ0AoZjAd_nm"
      }
    },
    {
      "cell_type": "markdown",
      "source": [
        "Podemos acceder a las variables utilizando la siguiente estructura:\n",
        "```\n",
        "lista[posicion]\n",
        "```\n",
        "\n",
        "**NOTA IMPORTANTE:** Las posiciones comienzan desde 0.\n",
        "\n",
        "\n",
        "Veamos un ejemplo:"
      ],
      "metadata": {
        "id": "-c6MGxGieB1A"
      }
    },
    {
      "cell_type": "code",
      "source": [
        "# Creamos una lista con los valores 0, 1, 2, 3, 4, 5, 6, 7, 8, 9\n",
        "lista = [ x for x in range(0, 10)]\n",
        "\n",
        "print(lista[1])\n",
        "print(lista[2])"
      ],
      "metadata": {
        "id": "33qQSbYyeK-Y"
      },
      "execution_count": null,
      "outputs": []
    },
    {
      "cell_type": "markdown",
      "source": [
        "Podemos interactuar con estas variables como cualquier otra:"
      ],
      "metadata": {
        "id": "7UklBNLgeaXl"
      }
    },
    {
      "cell_type": "code",
      "source": [
        "# Creamos una lista con los valores 0, 1, 2, 3, 4, 5, 6, 7, 8, 9\n",
        "lista = [ x for x in range(0, 10)]\n",
        "\n",
        "print(lista)\n",
        "print(lista[2])\n",
        "\n",
        "# Le asignamos el valor a la posición\n",
        "lista[2] = \"Hola\"\n",
        "\n",
        "print(lista)\n",
        "print(lista[2])"
      ],
      "metadata": {
        "id": "afube1K4elH0"
      },
      "execution_count": null,
      "outputs": []
    },
    {
      "cell_type": "markdown",
      "source": [
        "**Pregunta:**\n",
        " \n",
        "¿Que imprimirá el siguiente código?"
      ],
      "metadata": {
        "id": "l7cIICuBhPXF"
      }
    },
    {
      "cell_type": "code",
      "source": [
        "lista = [2*x for x in range(0,3)]\n",
        "\n",
        "for x in range(0,3):\n",
        "    print(lista[x])"
      ],
      "metadata": {
        "id": "TAw7XGNfhNVt",
        "colab": {
          "base_uri": "https://localhost:8080/"
        },
        "outputId": "3737dbd3-bce0-468f-e120-b6c8cf4221b1"
      },
      "execution_count": 17,
      "outputs": [
        {
          "output_type": "stream",
          "name": "stdout",
          "text": [
            "0\n",
            "2\n",
            "4\n"
          ]
        }
      ]
    },
    {
      "cell_type": "markdown",
      "source": [
        "### Operaciones con listas"
      ],
      "metadata": {
        "id": "YcUMWGSCC2rF"
      }
    },
    {
      "cell_type": "markdown",
      "source": [
        "Al igual que con las strings, podemos realizar operaciones sobre las listas.\n",
        "\n",
        "Por ejemplo sumar dos listas:"
      ],
      "metadata": {
        "id": "L2UQJWicC4P3"
      }
    },
    {
      "cell_type": "code",
      "source": [
        "a = [1, 2]\n",
        "b = [3, 4]\n",
        "c = a + b\n",
        "print(c)\n",
        "\n",
        "# concatenacion es "
      ],
      "metadata": {
        "id": "COiC5V4MDAgg",
        "colab": {
          "base_uri": "https://localhost:8080/"
        },
        "outputId": "f7b2c4c7-5450-4cdb-c9b7-8edfa1a5ef40"
      },
      "execution_count": 19,
      "outputs": [
        {
          "output_type": "stream",
          "name": "stdout",
          "text": [
            "[1, 2, 3, 4]\n"
          ]
        }
      ]
    },
    {
      "cell_type": "markdown",
      "source": [
        "También podemos verificar si un elemento se encuentra en la lista:"
      ],
      "metadata": {
        "id": "qXc9q1dxDERL"
      }
    },
    {
      "cell_type": "code",
      "source": [
        "a = [1,2,3,4,5]\n",
        "\n",
        "print(5 in a)\n",
        "print(9 in a)\n",
        "\n",
        "print((2 in a) and (9 in a))"
      ],
      "metadata": {
        "colab": {
          "base_uri": "https://localhost:8080/"
        },
        "id": "kMjqvOPYDHCu",
        "outputId": "93c0b6e7-3cdf-4510-e782-bd9d4b56fe8e"
      },
      "execution_count": 26,
      "outputs": [
        {
          "output_type": "stream",
          "name": "stdout",
          "text": [
            "True\n",
            "False\n",
            "False\n"
          ]
        }
      ]
    },
    {
      "cell_type": "markdown",
      "source": [
        "### Funciones de listas\n",
        "\n"
      ],
      "metadata": {
        "id": "YldhZ48hgzDZ"
      }
    },
    {
      "cell_type": "markdown",
      "source": [
        "Al igual que los strings las listas tienen funciones dentro de ellas que podemos utilizar de la siguiente manera:\n",
        "```\n",
        "lista.funcion(parametros)\n",
        "```\n",
        "Podemos encontrar una lista de estas funciones [aca](https://docs.python.org/3/tutorial/datastructures.html#more-on-lists). \n",
        "\n",
        "Veamos un ejemplo:"
      ],
      "metadata": {
        "id": "YHvmKGF64dRr"
      }
    },
    {
      "cell_type": "code",
      "source": [
        "# Creamos una lista con los valores 0, 1, 2, 3\n",
        "lista = [x for x in range(4)]\n",
        "\n",
        "print(lista)\n",
        "\n",
        "# Damos vuelta la lista\n",
        "lista.reverse()\n",
        "\n",
        "# PREGUNTA: Que va a imprimir la siguiente función?\n",
        "print(lista)"
      ],
      "metadata": {
        "id": "z4W2BIy3gwZF",
        "colab": {
          "base_uri": "https://localhost:8080/"
        },
        "outputId": "f5ddeddd-feb8-4c7e-cd6e-ad6cd36e1de7"
      },
      "execution_count": 29,
      "outputs": [
        {
          "output_type": "stream",
          "name": "stdout",
          "text": [
            "[0, 1, 2, 3]\n",
            "[3, 2, 1, 0]\n"
          ]
        }
      ]
    },
    {
      "cell_type": "code",
      "source": [
        "lista[::-1]"
      ],
      "metadata": {
        "id": "TIY1jn160zWy",
        "outputId": "cfb418ef-1969-49a2-a329-1fdde340de13",
        "colab": {
          "base_uri": "https://localhost:8080/"
        }
      },
      "execution_count": 30,
      "outputs": [
        {
          "output_type": "execute_result",
          "data": {
            "text/plain": [
              "[0, 1, 2, 3]"
            ]
          },
          "metadata": {},
          "execution_count": 30
        }
      ]
    },
    {
      "cell_type": "markdown",
      "source": [
        "También podemos agregar o quitar valores de las listas:"
      ],
      "metadata": {
        "id": "B8ESm9lWrB7p"
      }
    },
    {
      "cell_type": "code",
      "source": [
        "lista = [0, 1]\n",
        "\n",
        "print(lista)\n",
        "\n",
        "# Agregamos el valor 10 al final de la lista\n",
        "lista.append(10)\n",
        "# Agregamos el valor 1 al final de la lista\n",
        "lista.append(1)\n",
        "print(lista)\n",
        "\n",
        "# Sacamos la primera ocurrencia del valor 1\n",
        "lista.remove(1)\n",
        "print(lista)\n",
        "# Sacamos la otra\n",
        "lista.remove(1)\n",
        "print(lista)\n"
      ],
      "metadata": {
        "id": "2o6aFtwIrEv2",
        "colab": {
          "base_uri": "https://localhost:8080/"
        },
        "outputId": "0dc9cc2a-dd97-4bfb-a65e-0d62cde836dd"
      },
      "execution_count": 31,
      "outputs": [
        {
          "output_type": "stream",
          "name": "stdout",
          "text": [
            "[0, 1]\n",
            "[0, 1, 10, 1]\n",
            "[0, 10, 1]\n",
            "[0, 10]\n"
          ]
        }
      ]
    },
    {
      "cell_type": "code",
      "source": [
        "lista.append(5)"
      ],
      "metadata": {
        "id": "qV7A9p-72E5x"
      },
      "execution_count": 38,
      "outputs": []
    },
    {
      "cell_type": "code",
      "source": [
        "lista.sort()"
      ],
      "metadata": {
        "id": "INfALfLh2ifk"
      },
      "execution_count": 41,
      "outputs": []
    },
    {
      "cell_type": "code",
      "source": [
        "lista.append(6)"
      ],
      "metadata": {
        "id": "jneoyckb2tGt"
      },
      "execution_count": 48,
      "outputs": []
    },
    {
      "cell_type": "code",
      "source": [
        "lista_order = lista.sort(lista)"
      ],
      "metadata": {
        "id": "eOtvKqnI22mX",
        "outputId": "399b035d-832e-4181-d31a-bb5148decae0",
        "colab": {
          "base_uri": "https://localhost:8080/",
          "height": 165
        }
      },
      "execution_count": 52,
      "outputs": [
        {
          "output_type": "error",
          "ename": "TypeError",
          "evalue": "ignored",
          "traceback": [
            "\u001b[0;31m---------------------------------------------------------------------------\u001b[0m",
            "\u001b[0;31mTypeError\u001b[0m                                 Traceback (most recent call last)",
            "\u001b[0;32m<ipython-input-52-c38d7a57dfff>\u001b[0m in \u001b[0;36m<cell line: 1>\u001b[0;34m()\u001b[0m\n\u001b[0;32m----> 1\u001b[0;31m \u001b[0mlista_order\u001b[0m \u001b[0;34m=\u001b[0m \u001b[0mlista\u001b[0m\u001b[0;34m.\u001b[0m\u001b[0msort\u001b[0m\u001b[0;34m(\u001b[0m\u001b[0mlista\u001b[0m\u001b[0;34m)\u001b[0m\u001b[0;34m\u001b[0m\u001b[0;34m\u001b[0m\u001b[0m\n\u001b[0m",
            "\u001b[0;31mTypeError\u001b[0m: sort() takes no positional arguments"
          ]
        }
      ]
    },
    {
      "cell_type": "code",
      "source": [
        "lista"
      ],
      "metadata": {
        "id": "DrNJ4r9_25TE",
        "outputId": "a675aacb-6ecb-406e-bddb-7970a3f1574a",
        "colab": {
          "base_uri": "https://localhost:8080/"
        }
      },
      "execution_count": 49,
      "outputs": [
        {
          "output_type": "execute_result",
          "data": {
            "text/plain": [
              "[0, 3, 5, 10, 6]"
            ]
          },
          "metadata": {},
          "execution_count": 49
        }
      ]
    },
    {
      "cell_type": "markdown",
      "source": [
        "### Mini Desafio 1\n"
      ],
      "metadata": {
        "id": "irb_lneKiKo0"
      }
    },
    {
      "cell_type": "markdown",
      "source": [
        "\n",
        "Utilizando list comprehension, multiplicar cada variable por un número ingresado por el usuario de la siguiente lista:\n",
        "```\n",
        "lista = [1, 3, 5, 7, 13, 17]\n",
        "```\n",
        "Por ejemplo:\n",
        "```\n",
        ">>> 0\n",
        "[0, 0, 0, 0, 0, 0]\n",
        "```"
      ],
      "metadata": {
        "id": "YcTH24y6j4Lu"
      }
    },
    {
      "cell_type": "code",
      "source": [
        "lista = [1, 3, 5, 7, 13, 17]"
      ],
      "metadata": {
        "id": "5uDQ3KQL38Iv"
      },
      "execution_count": 53,
      "outputs": []
    },
    {
      "cell_type": "code",
      "source": [
        "nro = int(input('num'))\n",
        "[x*nro for x in lista]\n"
      ],
      "metadata": {
        "id": "SjQUXfc_34UF",
        "outputId": "79125f30-437a-4f47-d269-77d64026d1c8",
        "colab": {
          "base_uri": "https://localhost:8080/"
        }
      },
      "execution_count": 56,
      "outputs": [
        {
          "name": "stdout",
          "output_type": "stream",
          "text": [
            "num5\n"
          ]
        },
        {
          "output_type": "execute_result",
          "data": {
            "text/plain": [
              "[5, 15, 25, 35, 65, 85]"
            ]
          },
          "metadata": {},
          "execution_count": 56
        }
      ]
    },
    {
      "cell_type": "code",
      "source": [
        "lista = [1, 3, 5, 7, 13, 17]\n",
        "\n",
        "# Escribir su código aca:"
      ],
      "metadata": {
        "id": "wmdOSl71iEaD"
      },
      "execution_count": null,
      "outputs": []
    },
    {
      "cell_type": "markdown",
      "source": [
        "### Mini Desafio 2\n"
      ],
      "metadata": {
        "id": "Oa4GTxwki23h"
      }
    },
    {
      "cell_type": "markdown",
      "source": [
        "Imprimir de la lista las siguientes cosas:\n",
        "\n",
        "\n",
        "*   La primera mitad de la lista\n",
        "*   La lista ordenada de menor a mayor\n",
        "*   La lista ordenada de mayor a menor\n",
        "*   La segunda mitad de la lista ordenada de mayor a menor\n",
        "\n",
        "La lista es la siguiente:\n",
        "```python\n",
        "lista = [14, 3, 6, 27]\n",
        "```\n",
        "La respuesta esperada es:\n",
        "```python\n",
        "[14, 3]\n",
        "[3, 6, 14, 27]\n",
        "[27, 14, 6, 3]\n",
        "[6, 3]\n",
        "```\n",
        "**TIP**: Ver en las funciones incluidas en las listas."
      ],
      "metadata": {
        "id": "I3gJZx2Qj6pA"
      }
    },
    {
      "cell_type": "code",
      "source": [
        "lista = [14, 3, 6, 27]\n",
        "mitad1 = lista[0:len(lista)//2]\n",
        "print(mitad1)"
      ],
      "metadata": {
        "id": "7hVkHZhW54qf",
        "outputId": "7370db92-f824-4f2a-fd89-9324883b7148",
        "colab": {
          "base_uri": "https://localhost:8080/"
        }
      },
      "execution_count": 71,
      "outputs": [
        {
          "output_type": "stream",
          "name": "stdout",
          "text": [
            "[14, 3]\n"
          ]
        }
      ]
    },
    {
      "cell_type": "code",
      "source": [
        "lista = [14, 3, 6, 27]\n",
        "lista.sort()\n",
        "print(lista)"
      ],
      "metadata": {
        "id": "GLXHUjdi43Ir",
        "outputId": "1ce13827-9d92-437f-8e73-dc1824ef8485",
        "colab": {
          "base_uri": "https://localhost:8080/"
        }
      },
      "execution_count": 72,
      "outputs": [
        {
          "output_type": "stream",
          "name": "stdout",
          "text": [
            "[3, 6, 14, 27]\n"
          ]
        }
      ]
    },
    {
      "cell_type": "code",
      "source": [
        "lista = [14, 3, 6, 27]\n",
        "reverse = sorted(lista,reverse=True)\n",
        "print(reverse)"
      ],
      "metadata": {
        "id": "dndp3Twj5s4V",
        "outputId": "e8350262-88f7-48ad-8b82-c2e616c49aef",
        "colab": {
          "base_uri": "https://localhost:8080/"
        }
      },
      "execution_count": 75,
      "outputs": [
        {
          "output_type": "stream",
          "name": "stdout",
          "text": [
            "[27, 14, 6, 3]\n"
          ]
        }
      ]
    },
    {
      "cell_type": "code",
      "source": [
        "lista = [14, 3, 6, 27]\n",
        "mitad2 = lista[len(lista)//2:lista[-1]]\n",
        "print(mitad2)"
      ],
      "metadata": {
        "id": "mf4uqXIo5tBV",
        "outputId": "e4fbb5cb-9953-4784-d169-1c508d344560",
        "colab": {
          "base_uri": "https://localhost:8080/"
        }
      },
      "execution_count": 77,
      "outputs": [
        {
          "output_type": "stream",
          "name": "stdout",
          "text": [
            "[6, 27]\n"
          ]
        }
      ]
    },
    {
      "cell_type": "markdown",
      "source": [
        "### Mini Desafío 3\n"
      ],
      "metadata": {
        "id": "ImoxXtHnjy2C"
      }
    },
    {
      "cell_type": "markdown",
      "source": [
        "\n",
        "Imprimir una lista en orden inverso sin utilizar la función reverse.\n",
        "\n",
        "Ejemplo:\n",
        "```\n",
        "lista = [1, 2, \"tres\"]\n",
        "```\n",
        "Salida:\n",
        "```\n",
        "\"tres\"\n",
        "2\n",
        "1\n",
        "```"
      ],
      "metadata": {
        "id": "X2RSdgxV4uJW"
      }
    },
    {
      "cell_type": "code",
      "source": [
        "lista = [1, 2, \"tres\"]\n",
        "lista[::-1]"
      ],
      "metadata": {
        "id": "kvjIB0Cn6ix_",
        "outputId": "945c5a79-b011-439b-db63-39854997ad7a",
        "colab": {
          "base_uri": "https://localhost:8080/"
        }
      },
      "execution_count": 84,
      "outputs": [
        {
          "output_type": "execute_result",
          "data": {
            "text/plain": [
              "['tres', 2, 1]"
            ]
          },
          "metadata": {},
          "execution_count": 84
        }
      ]
    },
    {
      "cell_type": "code",
      "source": [],
      "metadata": {
        "id": "N304WXolkcOe"
      },
      "execution_count": null,
      "outputs": []
    },
    {
      "cell_type": "markdown",
      "source": [
        "## Tuplas"
      ],
      "metadata": {
        "id": "Maxw7RIXj8Kq"
      }
    },
    {
      "cell_type": "markdown",
      "source": [
        "Las tuplas son muy similares a las listas pero sus variables no pueden ser modificadas.\n",
        "\n",
        "Se crean siguiendo la siguiente estructura:\n",
        "```\n",
        "tupla = (variable1, variable2, ...)\n",
        "```\n",
        "\n",
        "Veamos un ejemplo:"
      ],
      "metadata": {
        "id": "j-mIBKrPkA3d"
      }
    },
    {
      "cell_type": "code",
      "source": [
        "tupla = (1, 2, \"hola\")\n",
        "\n",
        "print(tupla)"
      ],
      "metadata": {
        "id": "0igjGFovkfxU",
        "colab": {
          "base_uri": "https://localhost:8080/"
        },
        "outputId": "d29743ee-043c-4440-8b1c-455dea7c7b6b"
      },
      "execution_count": 85,
      "outputs": [
        {
          "output_type": "stream",
          "name": "stdout",
          "text": [
            "(1, 2, 'hola')\n"
          ]
        }
      ]
    },
    {
      "cell_type": "markdown",
      "source": [
        "Al igual que las listas podemos generarlas utilizando la estructura for, pero debemos indicarle con la palabra `tuple`:"
      ],
      "metadata": {
        "id": "hc4eNonFkjBX"
      }
    },
    {
      "cell_type": "code",
      "source": [
        "# Creamos una tupla con el cuadrado de los números pares de 0 a 10\n",
        "tupla = tuple(x ** 2 for x in range(0, 10, 2))\n",
        "\n",
        "print(tupla)"
      ],
      "metadata": {
        "id": "iG6409xpj9Lz"
      },
      "execution_count": null,
      "outputs": []
    },
    {
      "cell_type": "markdown",
      "source": [
        "### Acceso a las variables\n"
      ],
      "metadata": {
        "id": "uNZvBHPfnsW_"
      }
    },
    {
      "cell_type": "markdown",
      "source": [
        "\n",
        "Podemos acceder a las variables pero no modificarlas utilizando la misma estructura que las listas.\n",
        "\n",
        "```\n",
        "tupla[posicion]\n",
        "```\n",
        "\n",
        "Veamos un ejemplo:"
      ],
      "metadata": {
        "id": "8HkH4f5H5HGu"
      }
    },
    {
      "cell_type": "code",
      "source": [
        "tupla = tuple(x ** 2 for x in range(0, 10, 2))\n",
        "\n",
        "print(tupla[3])"
      ],
      "metadata": {
        "colab": {
          "base_uri": "https://localhost:8080/"
        },
        "id": "WjWI0-ODky36",
        "outputId": "ac6d5788-8cb1-4192-e268-aa54f6814c61"
      },
      "execution_count": null,
      "outputs": [
        {
          "output_type": "stream",
          "name": "stdout",
          "text": [
            "36\n"
          ]
        }
      ]
    },
    {
      "cell_type": "markdown",
      "source": [
        "Pero si intentamos modificar:"
      ],
      "metadata": {
        "id": "HbG_BQoCoJzY"
      }
    },
    {
      "cell_type": "code",
      "source": [
        "tupla[3] = 25"
      ],
      "metadata": {
        "id": "CYPrGMDZoHbz"
      },
      "execution_count": null,
      "outputs": []
    },
    {
      "cell_type": "markdown",
      "source": [
        "### Mini Desafío 4\n",
        "\n"
      ],
      "metadata": {
        "id": "kDvdFsizoXEV"
      }
    },
    {
      "cell_type": "markdown",
      "source": [
        "\n",
        "A partir de una tupla que contenga los valores de 0 al 100, generar otra tupla que contenga unicamente los valores pares.\n",
        "\n",
        "**TIP**: `for x in tupla` itera sobre cada valor de la tupla."
      ],
      "metadata": {
        "id": "P36fdBru5LpZ"
      }
    },
    {
      "cell_type": "code",
      "source": [
        "tupla = tuple(i for i in range(0,100))"
      ],
      "metadata": {
        "id": "Pdt8gU42opqJ"
      },
      "execution_count": 88,
      "outputs": []
    },
    {
      "cell_type": "code",
      "source": [
        "for x in tupla:\n",
        "  tupla_pares = tuple(i for i in tupla if i%2==0)"
      ],
      "metadata": {
        "id": "7pA6ezVBGdSQ"
      },
      "execution_count": 89,
      "outputs": []
    },
    {
      "cell_type": "code",
      "source": [
        "tupla_pares"
      ],
      "metadata": {
        "id": "LWuwkz4nGyqS",
        "outputId": "40938f4e-c292-4fa1-c9ee-8a1a933148b1",
        "colab": {
          "base_uri": "https://localhost:8080/"
        }
      },
      "execution_count": 90,
      "outputs": [
        {
          "output_type": "execute_result",
          "data": {
            "text/plain": [
              "(0,\n",
              " 2,\n",
              " 4,\n",
              " 6,\n",
              " 8,\n",
              " 10,\n",
              " 12,\n",
              " 14,\n",
              " 16,\n",
              " 18,\n",
              " 20,\n",
              " 22,\n",
              " 24,\n",
              " 26,\n",
              " 28,\n",
              " 30,\n",
              " 32,\n",
              " 34,\n",
              " 36,\n",
              " 38,\n",
              " 40,\n",
              " 42,\n",
              " 44,\n",
              " 46,\n",
              " 48,\n",
              " 50,\n",
              " 52,\n",
              " 54,\n",
              " 56,\n",
              " 58,\n",
              " 60,\n",
              " 62,\n",
              " 64,\n",
              " 66,\n",
              " 68,\n",
              " 70,\n",
              " 72,\n",
              " 74,\n",
              " 76,\n",
              " 78,\n",
              " 80,\n",
              " 82,\n",
              " 84,\n",
              " 86,\n",
              " 88,\n",
              " 90,\n",
              " 92,\n",
              " 94,\n",
              " 96,\n",
              " 98)"
            ]
          },
          "metadata": {},
          "execution_count": 90
        }
      ]
    },
    {
      "cell_type": "markdown",
      "source": [
        "# Diccionarios"
      ],
      "metadata": {
        "id": "2mjVtVZ4oUAd"
      }
    },
    {
      "cell_type": "markdown",
      "source": [
        "Los diccionarios son una estructura que permite guardar valores asociados a una llave o key. Es decir, guarda un par key,valor y nos permite acceder a ellos por esta llave.\n",
        "\n",
        "La estructura es la siguiente:\n",
        "```python\n",
        "{\n",
        "    llave: valor,\n",
        "    llave2: valor2,\n",
        "    ...\n",
        "}\n",
        "```\n",
        "Veamos un ejemplo:\n"
      ],
      "metadata": {
        "id": "k5zFQJMzoqv7"
      }
    },
    {
      "cell_type": "code",
      "source": [
        "# Generamos un diccionario donde la llave es un pais y el valor su población\n",
        "diccionario = {\n",
        "    \"Argentina\": 45300000,\n",
        "    \"Inglaterra\": 55600000,\n",
        "    \"Italia\": 59550000,\n",
        "    \"Chile\": 19200000\n",
        "}"
      ],
      "metadata": {
        "id": "Xkd3EEUCoM5e"
      },
      "execution_count": null,
      "outputs": []
    },
    {
      "cell_type": "markdown",
      "source": [
        "### Acceso a las variables"
      ],
      "metadata": {
        "id": "LteaS7qOp-_T"
      }
    },
    {
      "cell_type": "markdown",
      "source": [
        "El acceso a las variables es igual que las tuplas y las listas, solo que en vez de la posición se utiliza la llave:\n",
        "```\n",
        "diccionario[llave]\n",
        "```\n",
        "Veamos un ejemplo:"
      ],
      "metadata": {
        "id": "Q9FKGUV0qAxF"
      }
    },
    {
      "cell_type": "code",
      "source": [
        "# Generamos un diccionario donde la llave es un pais y el valor su población\n",
        "diccionario = {\n",
        "    \"Argentina\": 45300000,\n",
        "    \"Inglaterra\": 55600000,\n",
        "    \"Italia\": 59550000,\n",
        "    \"Chile\": 19200000\n",
        "}\n",
        "\n",
        "# Obtenemos el valor en la llave argentina\n",
        "poblacion = diccionario['Argentina']\n",
        "\n",
        "print(\"La población de Argentina es\", poblacion)"
      ],
      "metadata": {
        "id": "pJWa4mBjqASQ"
      },
      "execution_count": null,
      "outputs": []
    },
    {
      "cell_type": "markdown",
      "source": [
        "Al igual que las listas las variables son modificables."
      ],
      "metadata": {
        "id": "6WOL7AR5rdDC"
      }
    },
    {
      "cell_type": "code",
      "source": [
        "diccionario = {\n",
        "    1: 2,\n",
        "    2: 3,\n",
        "    3: 4,\n",
        "}\n",
        "# Vemos que tiene la llave 3\n",
        "print(diccionario[3])\n",
        "\n",
        "# Sumamos uno a la llave 3\n",
        "diccionario[3] += 1\n",
        "\n",
        "print(diccionario[3])\n",
        "\n"
      ],
      "metadata": {
        "id": "nvLDrXP3rgJw"
      },
      "execution_count": null,
      "outputs": []
    },
    {
      "cell_type": "markdown",
      "source": [
        "También podemos agregar llaves en el código:\n",
        " "
      ],
      "metadata": {
        "id": "eA9oxQ8crvmS"
      }
    },
    {
      "cell_type": "code",
      "source": [
        "diccionario = {\n",
        "    1: 2,\n",
        "    2: 3,\n",
        "    3: 4,\n",
        "}\n",
        "\n",
        "print(diccionario)\n",
        "\n",
        "# Agregamos la llave hola con el siguiente valor\n",
        "diccionario['hola'] = 'Soy la nueva llave'\n",
        "\n",
        "print(diccionario)"
      ],
      "metadata": {
        "id": "2HbmcXiXqfPS"
      },
      "execution_count": null,
      "outputs": []
    },
    {
      "cell_type": "markdown",
      "source": [
        "### Funciones\n"
      ],
      "metadata": {
        "id": "RfLDeMMFCB13"
      }
    },
    {
      "cell_type": "markdown",
      "source": [
        "\n",
        "Al igual que las otras estructuras los diccionarios tienen funciones dentro de ellos. Podemos leer sobre ellas en el siguiente [link](https://docs.python.org/3/library/stdtypes.html#dict).\n",
        "\n",
        "Veamos algunos ejemplos:"
      ],
      "metadata": {
        "id": "Wj04O0l-5eUY"
      }
    },
    {
      "cell_type": "code",
      "source": [
        "# Generamos un diccionario donde la llave es un pais y el valor su población\n",
        "diccionario = {\n",
        "    \"Argentina\": 45300000,\n",
        "    \"Inglaterra\": 55600000,\n",
        "    \"Italia\": 59550000,\n",
        "    \"Chile\": 19200000\n",
        "}\n",
        "\n",
        "# Vemos las llaves del diccionario\n",
        "print(diccionario.keys())\n",
        "\n",
        "# Vemos los valores del diccionario\n",
        "print(diccionario.values())\n",
        "\n",
        "# Vemos los elementos del diccionario\n",
        "print(diccionario.items())"
      ],
      "metadata": {
        "id": "0QDjaUqdr6yl"
      },
      "execution_count": null,
      "outputs": []
    },
    {
      "cell_type": "markdown",
      "source": [
        "## Mini desafío 5"
      ],
      "metadata": {
        "id": "4krPRchrDrkg"
      }
    },
    {
      "cell_type": "markdown",
      "source": [
        "Escribir una función que una dos diccionarios. Si la key está repetida, tomar el valor del primer diccionario.\n",
        " \n",
        "Esta operación no debe modificar los diccionarios dados como parámetro.\n",
        " \n",
        "Ejemplo:\n",
        "```python\n",
        "a = {\n",
        "   'a': 1,\n",
        "   'b': 2,\n",
        "   'c': 3,\n",
        "   'd': 4,\n",
        "}\n",
        "b = {\n",
        "   'c': 5,\n",
        "   'd': 6,\n",
        "   'e': 7,\n",
        "}\n",
        " \n",
        "c = unir_diccionarios(a,b)\n",
        "print(c)\n",
        "```\n",
        "Debe dar el resultado:\n",
        "```python\n",
        "{'a':1,'b':2,'c':3,'d':4,'e':7}\n",
        "```"
      ],
      "metadata": {
        "id": "LbZfyuXEDzKL"
      }
    },
    {
      "cell_type": "code",
      "source": [],
      "metadata": {
        "id": "1u9oNresCgtT"
      },
      "execution_count": null,
      "outputs": []
    },
    {
      "cell_type": "markdown",
      "source": [
        "### Mini desafío 6"
      ],
      "metadata": {
        "id": "ze4JmxLKF71E"
      }
    },
    {
      "cell_type": "markdown",
      "source": [
        "Reescribir el Mini Desafío 2 de la clase 2 utilizando diccionarios. "
      ],
      "metadata": {
        "id": "nxeq_TdHF-mu"
      }
    },
    {
      "cell_type": "code",
      "source": [],
      "metadata": {
        "id": "ud61wvTDF957"
      },
      "execution_count": null,
      "outputs": []
    },
    {
      "cell_type": "markdown",
      "source": [
        "# Ejercicios Integradores"
      ],
      "metadata": {
        "id": "e-19oDLWGQum"
      }
    },
    {
      "cell_type": "markdown",
      "source": [
        "## 1. Calculadora 4.0\n"
      ],
      "metadata": {
        "id": "TsitzOGuTWQF"
      }
    },
    {
      "cell_type": "markdown",
      "source": [
        " \n",
        "Reescribir la calculadora pero utilizando el diccionario para almacenar las funciones de cada cuenta.\n",
        " \n",
        "**TIP:** Se puede almacenar una función en una variable y utilizarla.\n",
        "\n",
        "Ejemplo:\n",
        "\n"
      ],
      "metadata": {
        "id": "G3qpwfQ95rut"
      }
    },
    {
      "cell_type": "code",
      "source": [
        "def suma(a, b):\n",
        "    return a+b\n",
        "\n",
        "diccionario = {\n",
        "    '+': suma\n",
        "}\n",
        "print(diccionario['+'](1,2))"
      ],
      "metadata": {
        "id": "LzTLbtV2GSgF"
      },
      "execution_count": null,
      "outputs": []
    },
    {
      "cell_type": "code",
      "source": [
        "# Realizar el ejercicio aca"
      ],
      "metadata": {
        "id": "44EM-Va8T-K1"
      },
      "execution_count": null,
      "outputs": []
    },
    {
      "cell_type": "markdown",
      "source": [
        "## 2. Cantidad de elementos de llaves de un diccionario\n",
        "\n"
      ],
      "metadata": {
        "id": "_4Es3LugUBtH"
      }
    },
    {
      "cell_type": "markdown",
      "source": [
        "Devolver la cantidad total de llaves de un diccionario, incluyendo si tiene otros diccionarios dentro de el.\n",
        "\n",
        "Ejemplo:\n",
        "```python\n",
        "diccionario = {\n",
        "    'a': {'b':1, 'c':2},\n",
        "    'b': 3,\n",
        "    'c': 4,\n",
        "}\n",
        "print(contar_keys(diccionario))\n",
        "```\n",
        "Debe devolver 5.\n",
        "\n",
        "**TIP:** Con la función `isinstance`se puede verificar si un valor es un diccionario o un int."
      ],
      "metadata": {
        "id": "1gH5m2Pp5yg0"
      }
    },
    {
      "cell_type": "code",
      "source": [],
      "metadata": {
        "id": "l1uFvTORUlKH"
      },
      "execution_count": null,
      "outputs": []
    },
    {
      "cell_type": "markdown",
      "source": [
        "## 3. Fibonacci 2.0\n"
      ],
      "metadata": {
        "id": "Xlv09opx2Bpm"
      }
    },
    {
      "cell_type": "markdown",
      "source": [
        "Realizar una función que devuelva la secuencia de fibonacci hasta la posición `n`.\n",
        " \n",
        "Ejemplo:\n",
        "```\n",
        ">>> 4\n",
        "[0, 1, 1, 2, 3]\n",
        "```\n",
        "```\n",
        ">>> 6\n",
        "[0, 1, 1, 2, 3, 5, 8]\n",
        "```"
      ],
      "metadata": {
        "id": "VTnCv73j2Npz"
      }
    },
    {
      "cell_type": "code",
      "source": [],
      "metadata": {
        "id": "EREeF7IJ2rag"
      },
      "execution_count": null,
      "outputs": []
    },
    {
      "cell_type": "markdown",
      "source": [
        "## 4. Input de estructuras\n"
      ],
      "metadata": {
        "id": "X3LPIrBq2rtw"
      }
    },
    {
      "cell_type": "markdown",
      "source": [
        "Escribir un programa que te deje ingresar el texto de una lista o tupla (que contenga solo números) y lo convierta al objeto en python.\n",
        "\n",
        "Ejemplo:\n",
        "```\n",
        ">>> [1,2,3,4]\n",
        "[1,2,3,4]\n",
        "```\n",
        "```\n",
        ">>> (4,5,6)\n",
        "(4,5,6)\n",
        "```\n",
        "**NOTA:** No se vale hacer print del input, hay que convertir al objeto.\n",
        "\n",
        "**NOTA 2:** Investigar la función split y replace de strings."
      ],
      "metadata": {
        "id": "XF5_rpNL3oWd"
      }
    },
    {
      "cell_type": "code",
      "source": [],
      "metadata": {
        "id": "tDQdbdJo3ooP"
      },
      "execution_count": null,
      "outputs": []
    }
  ]
}