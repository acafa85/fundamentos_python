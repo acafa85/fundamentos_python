{
  "nbformat": 4,
  "nbformat_minor": 0,
  "metadata": {
    "colab": {
      "name": "Clase 4.ipynb",
      "provenance": [],
      "include_colab_link": true
    },
    "kernelspec": {
      "name": "python3",
      "display_name": "Python 3"
    },
    "language_info": {
      "name": "python"
    }
  },
  "cells": [
    {
      "cell_type": "markdown",
      "metadata": {
        "id": "view-in-github",
        "colab_type": "text"
      },
      "source": [
        "<a href=\"https://colab.research.google.com/github/acafa85/fundamentos_python/blob/main/Clase_4.ipynb\" target=\"_parent\"><img src=\"https://colab.research.google.com/assets/colab-badge.svg\" alt=\"Open In Colab\"/></a>"
      ]
    },
    {
      "cell_type": "markdown",
      "source": [
        "<img src=\"https://raw.githubusercontent.com/ITBA-Python/Certificacion-Profesional-Python/main/assets/clase2/Headers%20c%C3%A1talogo_Mesa%20de%20trabajo%201%20copia%2044.jpg\" width=\"800\">\n",
        "\n",
        "\n",
        "\n",
        "# Certificación profesional de Python\n",
        "\n",
        "# Clase 4\n",
        "\n",
        "El objetivo de la clase es seguir sumando experiencia de trabajo con programación aprendiendo los siguientes temas.\n",
        "\n",
        "*   Listas\n",
        "*   Tuplas\n",
        "*   Diccionarios\n",
        "\n",
        "La clase incluye teoría y práctica sobre cada tema aprendido.\n",
        "\n",
        "<img src=\"https://raw.githubusercontent.com/ITBA-Python/Certificacion-Profesional-Python/main/assets/clase2/LOGOTIPO_sin_fondo_positivo_sin_bajada.png\" width=\"400\">\n",
        "\n"
      ],
      "metadata": {
        "id": "UShQ7MbxF39r"
      }
    },
    {
      "cell_type": "markdown",
      "source": [
        "# Listas y tuplas"
      ],
      "metadata": {
        "id": "iSdhysfhZz05"
      }
    },
    {
      "cell_type": "markdown",
      "source": [
        "## Listas"
      ],
      "metadata": {
        "id": "ud3aeCY9Z1vi"
      }
    },
    {
      "cell_type": "markdown",
      "source": [
        "Las listas son un conjunto ordenado de variables que nos permite almacenar e interactuar tanto individualmente como en el conjunto.\n",
        " \n",
        "Para crear una lista se sigue el siguiente formato:\n",
        "```\n",
        "lista = [variable1, variable2, ... ]\n",
        "```\n",
        "Veamos un ejemplo:\n"
      ],
      "metadata": {
        "id": "WtVGFIwHZ3Zg"
      }
    },
    {
      "cell_type": "code",
      "source": [
        "# Creo una lista con 8 variables\n",
        "lista = [0, 1, 2, \"tres\", 'cuatro', True, False, 0.5]"
      ],
      "metadata": {
        "id": "Qmlt3JYZZ1Qb"
      },
      "execution_count": null,
      "outputs": []
    },
    {
      "cell_type": "markdown",
      "source": [
        "### List Comprehension"
      ],
      "metadata": {
        "id": "6ce-j2J9d9Qn"
      }
    },
    {
      "cell_type": "markdown",
      "source": [
        "También podemos crear una lista utilizando un mecanismo que se llama \"list comprehension\". Este utiliza la estructura for para crear una lista:\n",
        "```python\n",
        "lista = [variable for variable in iterable]\n",
        "```\n",
        "Veamos un ejemplo:"
      ],
      "metadata": {
        "id": "EqafietXcaCX"
      }
    },
    {
      "cell_type": "code",
      "source": [
        "# Creamos una lista con los valores 0, 1, 2, 3 \n",
        "lista = [x for x in range(0,4)]\n",
        "\n",
        "print(lista)\n",
        "\n",
        "# Creamos una lista con los valores 0, 2, 4, 6\n",
        "lista2 = [2*x for x in range(0,4)]\n",
        "\n",
        "print(lista2)"
      ],
      "metadata": {
        "id": "HVqCteY6dOwA"
      },
      "execution_count": null,
      "outputs": []
    },
    {
      "cell_type": "markdown",
      "source": [
        "### Acceso a las varibles"
      ],
      "metadata": {
        "id": "gQ0AoZjAd_nm"
      }
    },
    {
      "cell_type": "markdown",
      "source": [
        "Podemos acceder a las variables utilizando la siguiente estructura:\n",
        "```\n",
        "lista[posicion]\n",
        "```\n",
        "\n",
        "**NOTA IMPORTANTE:** Las posiciones comienzan desde 0.\n",
        "\n",
        "\n",
        "Veamos un ejemplo:"
      ],
      "metadata": {
        "id": "-c6MGxGieB1A"
      }
    },
    {
      "cell_type": "code",
      "source": [
        "# Creamos una lista con los valores 0, 1, 2, 3, 4, 5, 6, 7, 8, 9\n",
        "lista = [ x for x in range(0, 10)]\n",
        "\n",
        "print(lista[1])\n",
        "print(lista[2])"
      ],
      "metadata": {
        "id": "33qQSbYyeK-Y"
      },
      "execution_count": null,
      "outputs": []
    },
    {
      "cell_type": "markdown",
      "source": [
        "Podemos interactuar con estas variables como cualquier otra:"
      ],
      "metadata": {
        "id": "7UklBNLgeaXl"
      }
    },
    {
      "cell_type": "code",
      "source": [
        "# Creamos una lista con los valores 0, 1, 2, 3, 4, 5, 6, 7, 8, 9\n",
        "lista = [ x for x in range(0, 10)]\n",
        "\n",
        "print(lista)\n",
        "print(lista[2])\n",
        "\n",
        "# Le asignamos el valor a la posición\n",
        "lista[2] = \"Hola\"\n",
        "\n",
        "print(lista)\n",
        "print(lista[2])"
      ],
      "metadata": {
        "id": "afube1K4elH0"
      },
      "execution_count": null,
      "outputs": []
    },
    {
      "cell_type": "markdown",
      "source": [
        "**Pregunta:**\n",
        " \n",
        "¿Que imprimirá el siguiente código?"
      ],
      "metadata": {
        "id": "l7cIICuBhPXF"
      }
    },
    {
      "cell_type": "code",
      "source": [
        "lista = [2*x for x in range(0,3)]\n",
        "\n",
        "for x in range(0,3):\n",
        "    print(lista[x])"
      ],
      "metadata": {
        "id": "TAw7XGNfhNVt"
      },
      "execution_count": null,
      "outputs": []
    },
    {
      "cell_type": "markdown",
      "source": [
        "### Operaciones con listas"
      ],
      "metadata": {
        "id": "YcUMWGSCC2rF"
      }
    },
    {
      "cell_type": "markdown",
      "source": [
        "Al igual que con las strings, podemos realizar operaciones sobre las listas.\n",
        "\n",
        "Por ejemplo sumar dos listas:"
      ],
      "metadata": {
        "id": "L2UQJWicC4P3"
      }
    },
    {
      "cell_type": "code",
      "source": [
        "a = [1, 2]\n",
        "b = [3, 4]\n",
        "c = a + b\n",
        "print(c)"
      ],
      "metadata": {
        "id": "COiC5V4MDAgg"
      },
      "execution_count": null,
      "outputs": []
    },
    {
      "cell_type": "markdown",
      "source": [
        "También podemos verificar si un elemento se encuentra en la lista:"
      ],
      "metadata": {
        "id": "qXc9q1dxDERL"
      }
    },
    {
      "cell_type": "code",
      "source": [
        "a = [1,2,3,4,5]\n",
        "\n",
        "print(5 in a)\n",
        "print(9 in a)"
      ],
      "metadata": {
        "colab": {
          "base_uri": "https://localhost:8080/"
        },
        "id": "kMjqvOPYDHCu",
        "outputId": "e909ac03-4a0f-467e-a864-12b8542fc3a0"
      },
      "execution_count": null,
      "outputs": [
        {
          "output_type": "stream",
          "name": "stdout",
          "text": [
            "True\n",
            "False\n"
          ]
        }
      ]
    },
    {
      "cell_type": "markdown",
      "source": [
        "### Funciones de listas\n",
        "\n"
      ],
      "metadata": {
        "id": "YldhZ48hgzDZ"
      }
    },
    {
      "cell_type": "markdown",
      "source": [
        "Al igual que los strings las listas tienen funciones dentro de ellas que podemos utilizar de la siguiente manera:\n",
        "```\n",
        "lista.funcion(parametros)\n",
        "```\n",
        "Podemos encontrar una lista de estas funciones [aca](https://docs.python.org/3/tutorial/datastructures.html#more-on-lists). \n",
        "\n",
        "Veamos un ejemplo:"
      ],
      "metadata": {
        "id": "YHvmKGF64dRr"
      }
    },
    {
      "cell_type": "code",
      "source": [
        "# Creamos una lista con los valores 0, 1, 2, 3\n",
        "lista = [x for x in range(4)]\n",
        "\n",
        "print(lista)\n",
        "\n",
        "# Damos vuelta la lista\n",
        "lista.reverse()\n",
        "\n",
        "# PREGUNTA: Que va a imprimir la siguiente función?\n",
        "print(lista)"
      ],
      "metadata": {
        "id": "z4W2BIy3gwZF"
      },
      "execution_count": null,
      "outputs": []
    },
    {
      "cell_type": "markdown",
      "source": [
        "También podemos agregar o quitar valores de las listas:"
      ],
      "metadata": {
        "id": "B8ESm9lWrB7p"
      }
    },
    {
      "cell_type": "code",
      "source": [
        "lista = [0, 1]\n",
        "\n",
        "print(lista)\n",
        "\n",
        "# Agregamos el valor 10 al final de la lista\n",
        "lista.append(10)\n",
        "# Agregamos el valor 1 al final de la lista\n",
        "lista.append(1)\n",
        "print(lista)\n",
        "\n",
        "# Sacamos la primera ocurrencia del valor 1\n",
        "lista.remove(1)\n",
        "print(lista)\n",
        "# Sacamos la otra\n",
        "lista.remove(1)\n",
        "print(lista)\n"
      ],
      "metadata": {
        "id": "2o6aFtwIrEv2"
      },
      "execution_count": null,
      "outputs": []
    },
    {
      "cell_type": "markdown",
      "source": [
        "### Mini Desafio 1\n"
      ],
      "metadata": {
        "id": "irb_lneKiKo0"
      }
    },
    {
      "cell_type": "markdown",
      "source": [
        "\n",
        "Utilizando list comprehension, multiplicar cada variable por un número ingresado por el usuario de la siguiente lista:\n",
        "```\n",
        "lista = [1, 3, 5, 7, 13, 17]\n",
        "```\n",
        "Por ejemplo:\n",
        "```\n",
        ">>> 0\n",
        "[0, 0, 0, 0, 0, 0]\n",
        "```"
      ],
      "metadata": {
        "id": "YcTH24y6j4Lu"
      }
    },
    {
      "cell_type": "code",
      "source": [
        "lista = [1, 3, 5, 7, 13, 17]\n",
        "\n",
        "# Escribir su código aca:"
      ],
      "metadata": {
        "id": "wmdOSl71iEaD"
      },
      "execution_count": null,
      "outputs": []
    },
    {
      "cell_type": "markdown",
      "source": [
        "### Mini Desafio 2\n"
      ],
      "metadata": {
        "id": "Oa4GTxwki23h"
      }
    },
    {
      "cell_type": "markdown",
      "source": [
        "Imprimir de la lista las siguientes cosas:\n",
        "\n",
        "\n",
        "*   La primera mitad de la lista\n",
        "*   La lista ordenada de menor a mayor\n",
        "*   La lista ordenada de mayor a menor\n",
        "*   La segunda mitad de la lista ordenada de mayor a menor\n",
        "\n",
        "La lista es la siguiente:\n",
        "```python\n",
        "lista = [14, 3, 6, 27]\n",
        "```\n",
        "La respuesta esperada es:\n",
        "```python\n",
        "[14, 3]\n",
        "[3, 6, 14, 27]\n",
        "[27, 14, 6, 3]\n",
        "[6, 3]\n",
        "```\n",
        "**TIP**: Ver en las funciones incluidas en las listas."
      ],
      "metadata": {
        "id": "I3gJZx2Qj6pA"
      }
    },
    {
      "cell_type": "code",
      "source": [],
      "metadata": {
        "id": "jTiFPtQui2bq"
      },
      "execution_count": null,
      "outputs": []
    },
    {
      "cell_type": "markdown",
      "source": [
        "### Mini Desafío 3\n"
      ],
      "metadata": {
        "id": "ImoxXtHnjy2C"
      }
    },
    {
      "cell_type": "markdown",
      "source": [
        "\n",
        "Imprimir una lista en orden inverso sin utilizar la función reverse.\n",
        "\n",
        "Ejemplo:\n",
        "```\n",
        "lista = [1, 2, \"tres\"]\n",
        "```\n",
        "Salida:\n",
        "```\n",
        "\"tres\"\n",
        "2\n",
        "1\n",
        "```"
      ],
      "metadata": {
        "id": "X2RSdgxV4uJW"
      }
    },
    {
      "cell_type": "code",
      "source": [],
      "metadata": {
        "id": "N304WXolkcOe"
      },
      "execution_count": null,
      "outputs": []
    },
    {
      "cell_type": "markdown",
      "source": [
        "## Tuplas"
      ],
      "metadata": {
        "id": "Maxw7RIXj8Kq"
      }
    },
    {
      "cell_type": "markdown",
      "source": [
        "Las tuplas son muy similares a las listas pero sus variables no pueden ser modificadas.\n",
        "\n",
        "Se crean siguiendo la siguiente estructura:\n",
        "```\n",
        "tupla = (variable1, variable2, ...)\n",
        "```\n",
        "\n",
        "Veamos un ejemplo:"
      ],
      "metadata": {
        "id": "j-mIBKrPkA3d"
      }
    },
    {
      "cell_type": "code",
      "source": [
        "tupla = (1, 2, \"hola\")\n",
        "\n",
        "print(tupla)"
      ],
      "metadata": {
        "id": "0igjGFovkfxU"
      },
      "execution_count": null,
      "outputs": []
    },
    {
      "cell_type": "markdown",
      "source": [
        "Al igual que las listas podemos generarlas utilizando la estructura for, pero debemos indicarle con la palabra `tuple`:"
      ],
      "metadata": {
        "id": "hc4eNonFkjBX"
      }
    },
    {
      "cell_type": "code",
      "source": [
        "# Creamos una tupla con el cuadrado de los números pares de 0 a 10\n",
        "tupla = tuple(x ** 2 for x in range(0, 10, 2))\n",
        "\n",
        "print(tupla)"
      ],
      "metadata": {
        "id": "iG6409xpj9Lz"
      },
      "execution_count": null,
      "outputs": []
    },
    {
      "cell_type": "markdown",
      "source": [
        "### Acceso a las variables\n"
      ],
      "metadata": {
        "id": "uNZvBHPfnsW_"
      }
    },
    {
      "cell_type": "markdown",
      "source": [
        "\n",
        "Podemos acceder a las variables pero no modificarlas utilizando la misma estructura que las listas.\n",
        "\n",
        "```\n",
        "tupla[posicion]\n",
        "```\n",
        "\n",
        "Veamos un ejemplo:"
      ],
      "metadata": {
        "id": "8HkH4f5H5HGu"
      }
    },
    {
      "cell_type": "code",
      "source": [
        "tupla = tuple(x ** 2 for x in range(0, 10, 2))\n",
        "\n",
        "print(tupla[3])"
      ],
      "metadata": {
        "colab": {
          "base_uri": "https://localhost:8080/"
        },
        "id": "WjWI0-ODky36",
        "outputId": "ac6d5788-8cb1-4192-e268-aa54f6814c61"
      },
      "execution_count": null,
      "outputs": [
        {
          "output_type": "stream",
          "name": "stdout",
          "text": [
            "36\n"
          ]
        }
      ]
    },
    {
      "cell_type": "markdown",
      "source": [
        "Pero si intentamos modificar:"
      ],
      "metadata": {
        "id": "HbG_BQoCoJzY"
      }
    },
    {
      "cell_type": "code",
      "source": [
        "tupla[3] = 25"
      ],
      "metadata": {
        "id": "CYPrGMDZoHbz"
      },
      "execution_count": null,
      "outputs": []
    },
    {
      "cell_type": "markdown",
      "source": [
        "### Mini Desafío 4\n",
        "\n"
      ],
      "metadata": {
        "id": "kDvdFsizoXEV"
      }
    },
    {
      "cell_type": "markdown",
      "source": [
        "\n",
        "A partir de una tupla que contenga los valores de 0 al 100, generar otra tupla que contenga unicamente los valores pares.\n",
        "\n",
        "**TIP**: `for x in tupla` itera sobre cada valor de la tupla."
      ],
      "metadata": {
        "id": "P36fdBru5LpZ"
      }
    },
    {
      "cell_type": "code",
      "source": [],
      "metadata": {
        "id": "Pdt8gU42opqJ"
      },
      "execution_count": null,
      "outputs": []
    },
    {
      "cell_type": "markdown",
      "source": [
        "# Diccionarios"
      ],
      "metadata": {
        "id": "2mjVtVZ4oUAd"
      }
    },
    {
      "cell_type": "markdown",
      "source": [
        "Los diccionarios son una estructura que permite guardar valores asociados a una llave o key. Es decir, guarda un par key,valor y nos permite acceder a ellos por esta llave.\n",
        "\n",
        "La estructura es la siguiente:\n",
        "```python\n",
        "{\n",
        "    llave: valor,\n",
        "    llave2: valor2,\n",
        "    ...\n",
        "}\n",
        "```\n",
        "Veamos un ejemplo:\n"
      ],
      "metadata": {
        "id": "k5zFQJMzoqv7"
      }
    },
    {
      "cell_type": "code",
      "source": [
        "# Generamos un diccionario donde la llave es un pais y el valor su población\n",
        "diccionario = {\n",
        "    \"Argentina\": 45300000,\n",
        "    \"Inglaterra\": 55600000,\n",
        "    \"Italia\": 59550000,\n",
        "    \"Chile\": 19200000\n",
        "}"
      ],
      "metadata": {
        "id": "Xkd3EEUCoM5e"
      },
      "execution_count": null,
      "outputs": []
    },
    {
      "cell_type": "markdown",
      "source": [
        "### Acceso a las variables"
      ],
      "metadata": {
        "id": "LteaS7qOp-_T"
      }
    },
    {
      "cell_type": "markdown",
      "source": [
        "El acceso a las variables es igual que las tuplas y las listas, solo que en vez de la posición se utiliza la llave:\n",
        "```\n",
        "diccionario[llave]\n",
        "```\n",
        "Veamos un ejemplo:"
      ],
      "metadata": {
        "id": "Q9FKGUV0qAxF"
      }
    },
    {
      "cell_type": "code",
      "source": [
        "# Generamos un diccionario donde la llave es un pais y el valor su población\n",
        "diccionario = {\n",
        "    \"Argentina\": 45300000,\n",
        "    \"Inglaterra\": 55600000,\n",
        "    \"Italia\": 59550000,\n",
        "    \"Chile\": 19200000\n",
        "}\n",
        "\n",
        "# Obtenemos el valor en la llave argentina\n",
        "poblacion = diccionario['Argentina']\n",
        "\n",
        "print(\"La población de Argentina es\", poblacion)"
      ],
      "metadata": {
        "id": "pJWa4mBjqASQ"
      },
      "execution_count": null,
      "outputs": []
    },
    {
      "cell_type": "markdown",
      "source": [
        "Al igual que las listas las variables son modificables."
      ],
      "metadata": {
        "id": "6WOL7AR5rdDC"
      }
    },
    {
      "cell_type": "code",
      "source": [
        "diccionario = {\n",
        "    1: 2,\n",
        "    2: 3,\n",
        "    3: 4,\n",
        "}\n",
        "# Vemos que tiene la llave 3\n",
        "print(diccionario[3])\n",
        "\n",
        "# Sumamos uno a la llave 3\n",
        "diccionario[3] += 1\n",
        "\n",
        "print(diccionario[3])\n",
        "\n"
      ],
      "metadata": {
        "id": "nvLDrXP3rgJw"
      },
      "execution_count": null,
      "outputs": []
    },
    {
      "cell_type": "markdown",
      "source": [
        "También podemos agregar llaves en el código:\n",
        " "
      ],
      "metadata": {
        "id": "eA9oxQ8crvmS"
      }
    },
    {
      "cell_type": "code",
      "source": [
        "diccionario = {\n",
        "    1: 2,\n",
        "    2: 3,\n",
        "    3: 4,\n",
        "}\n",
        "\n",
        "print(diccionario)\n",
        "\n",
        "# Agregamos la llave hola con el siguiente valor\n",
        "diccionario['hola'] = 'Soy la nueva llave'\n",
        "\n",
        "print(diccionario)"
      ],
      "metadata": {
        "id": "2HbmcXiXqfPS"
      },
      "execution_count": null,
      "outputs": []
    },
    {
      "cell_type": "markdown",
      "source": [
        "### Funciones\n"
      ],
      "metadata": {
        "id": "RfLDeMMFCB13"
      }
    },
    {
      "cell_type": "markdown",
      "source": [
        "\n",
        "Al igual que las otras estructuras los diccionarios tienen funciones dentro de ellos. Podemos leer sobre ellas en el siguiente [link](https://docs.python.org/3/library/stdtypes.html#dict).\n",
        "\n",
        "Veamos algunos ejemplos:"
      ],
      "metadata": {
        "id": "Wj04O0l-5eUY"
      }
    },
    {
      "cell_type": "code",
      "source": [
        "# Generamos un diccionario donde la llave es un pais y el valor su población\n",
        "diccionario = {\n",
        "    \"Argentina\": 45300000,\n",
        "    \"Inglaterra\": 55600000,\n",
        "    \"Italia\": 59550000,\n",
        "    \"Chile\": 19200000\n",
        "}\n",
        "\n",
        "# Vemos las llaves del diccionario\n",
        "print(diccionario.keys())\n",
        "\n",
        "# Vemos los valores del diccionario\n",
        "print(diccionario.values())\n",
        "\n",
        "# Vemos los elementos del diccionario\n",
        "print(diccionario.items())"
      ],
      "metadata": {
        "id": "0QDjaUqdr6yl"
      },
      "execution_count": null,
      "outputs": []
    },
    {
      "cell_type": "markdown",
      "source": [
        "## Mini desafío 5"
      ],
      "metadata": {
        "id": "4krPRchrDrkg"
      }
    },
    {
      "cell_type": "markdown",
      "source": [
        "Escribir una función que una dos diccionarios. Si la key está repetida, tomar el valor del primer diccionario.\n",
        " \n",
        "Esta operación no debe modificar los diccionarios dados como parámetro.\n",
        " \n",
        "Ejemplo:\n",
        "```python\n",
        "a = {\n",
        "   'a': 1,\n",
        "   'b': 2,\n",
        "   'c': 3,\n",
        "   'd': 4,\n",
        "}\n",
        "b = {\n",
        "   'c': 5,\n",
        "   'd': 6,\n",
        "   'e': 7,\n",
        "}\n",
        " \n",
        "c = unir_diccionarios(a,b)\n",
        "print(c)\n",
        "```\n",
        "Debe dar el resultado:\n",
        "```python\n",
        "{'a':1,'b':2,'c':3,'d':4,'e':7}\n",
        "```"
      ],
      "metadata": {
        "id": "LbZfyuXEDzKL"
      }
    },
    {
      "cell_type": "code",
      "source": [],
      "metadata": {
        "id": "1u9oNresCgtT"
      },
      "execution_count": null,
      "outputs": []
    },
    {
      "cell_type": "markdown",
      "source": [
        "### Mini desafío 6"
      ],
      "metadata": {
        "id": "ze4JmxLKF71E"
      }
    },
    {
      "cell_type": "markdown",
      "source": [
        "Reescribir el Mini Desafío 2 de la clase 2 utilizando diccionarios. "
      ],
      "metadata": {
        "id": "nxeq_TdHF-mu"
      }
    },
    {
      "cell_type": "code",
      "source": [],
      "metadata": {
        "id": "ud61wvTDF957"
      },
      "execution_count": null,
      "outputs": []
    },
    {
      "cell_type": "markdown",
      "source": [
        "# Ejercicios Integradores"
      ],
      "metadata": {
        "id": "e-19oDLWGQum"
      }
    },
    {
      "cell_type": "markdown",
      "source": [
        "## 1. Calculadora 4.0\n"
      ],
      "metadata": {
        "id": "TsitzOGuTWQF"
      }
    },
    {
      "cell_type": "markdown",
      "source": [
        " \n",
        "Reescribir la calculadora pero utilizando el diccionario para almacenar las funciones de cada cuenta.\n",
        " \n",
        "**TIP:** Se puede almacenar una función en una variable y utilizarla.\n",
        "\n",
        "Ejemplo:\n",
        "\n"
      ],
      "metadata": {
        "id": "G3qpwfQ95rut"
      }
    },
    {
      "cell_type": "code",
      "source": [
        "def suma(a, b):\n",
        "    return a+b\n",
        "\n",
        "diccionario = {\n",
        "    '+': suma\n",
        "}\n",
        "print(diccionario['+'](1,2))"
      ],
      "metadata": {
        "id": "LzTLbtV2GSgF"
      },
      "execution_count": null,
      "outputs": []
    },
    {
      "cell_type": "code",
      "source": [
        "# Realizar el ejercicio aca"
      ],
      "metadata": {
        "id": "44EM-Va8T-K1"
      },
      "execution_count": null,
      "outputs": []
    },
    {
      "cell_type": "markdown",
      "source": [
        "## 2. Cantidad de elementos de llaves de un diccionario\n",
        "\n"
      ],
      "metadata": {
        "id": "_4Es3LugUBtH"
      }
    },
    {
      "cell_type": "markdown",
      "source": [
        "Devolver la cantidad total de llaves de un diccionario, incluyendo si tiene otros diccionarios dentro de el.\n",
        "\n",
        "Ejemplo:\n",
        "```python\n",
        "diccionario = {\n",
        "    'a': {'b':1, 'c':2},\n",
        "    'b': 3,\n",
        "    'c': 4,\n",
        "}\n",
        "print(contar_keys(diccionario))\n",
        "```\n",
        "Debe devolver 5.\n",
        "\n",
        "**TIP:** Con la función `isinstance`se puede verificar si un valor es un diccionario o un int."
      ],
      "metadata": {
        "id": "1gH5m2Pp5yg0"
      }
    },
    {
      "cell_type": "code",
      "source": [],
      "metadata": {
        "id": "l1uFvTORUlKH"
      },
      "execution_count": null,
      "outputs": []
    },
    {
      "cell_type": "markdown",
      "source": [
        "## 3. Fibonacci 2.0\n"
      ],
      "metadata": {
        "id": "Xlv09opx2Bpm"
      }
    },
    {
      "cell_type": "markdown",
      "source": [
        "Realizar una función que devuelva la secuencia de fibonacci hasta la posición `n`.\n",
        " \n",
        "Ejemplo:\n",
        "```\n",
        ">>> 4\n",
        "[0, 1, 1, 2, 3]\n",
        "```\n",
        "```\n",
        ">>> 6\n",
        "[0, 1, 1, 2, 3, 5, 8]\n",
        "```"
      ],
      "metadata": {
        "id": "VTnCv73j2Npz"
      }
    },
    {
      "cell_type": "code",
      "source": [],
      "metadata": {
        "id": "EREeF7IJ2rag"
      },
      "execution_count": null,
      "outputs": []
    },
    {
      "cell_type": "markdown",
      "source": [
        "## 4. Input de estructuras\n"
      ],
      "metadata": {
        "id": "X3LPIrBq2rtw"
      }
    },
    {
      "cell_type": "markdown",
      "source": [
        "Escribir un programa que te deje ingresar el texto de una lista o tupla (que contenga solo números) y lo convierta al objeto en python.\n",
        "\n",
        "Ejemplo:\n",
        "```\n",
        ">>> [1,2,3,4]\n",
        "[1,2,3,4]\n",
        "```\n",
        "```\n",
        ">>> (4,5,6)\n",
        "(4,5,6)\n",
        "```\n",
        "**NOTA:** No se vale hacer print del input, hay que convertir al objeto.\n",
        "\n",
        "**NOTA 2:** Investigar la función split y replace de strings."
      ],
      "metadata": {
        "id": "XF5_rpNL3oWd"
      }
    },
    {
      "cell_type": "code",
      "source": [],
      "metadata": {
        "id": "tDQdbdJo3ooP"
      },
      "execution_count": null,
      "outputs": []
    }
  ]
}