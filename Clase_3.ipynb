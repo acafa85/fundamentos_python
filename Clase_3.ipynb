{
  "nbformat": 4,
  "nbformat_minor": 0,
  "metadata": {
    "colab": {
      "name": "Clase 3.ipynb",
      "provenance": [],
      "include_colab_link": true
    },
    "kernelspec": {
      "name": "python3",
      "display_name": "Python 3"
    },
    "language_info": {
      "name": "python"
    }
  },
  "cells": [
    {
      "cell_type": "markdown",
      "metadata": {
        "id": "view-in-github",
        "colab_type": "text"
      },
      "source": [
        "<a href=\"https://colab.research.google.com/github/acafa85/fundamentos_python/blob/main/Clase_3.ipynb\" target=\"_parent\"><img src=\"https://colab.research.google.com/assets/colab-badge.svg\" alt=\"Open In Colab\"/></a>"
      ]
    },
    {
      "cell_type": "markdown",
      "source": [
        "<img src=\"https://raw.githubusercontent.com/ITBA-Python/Certificacion-Profesional-Python/main/assets/clase2/Headers%20c%C3%A1talogo_Mesa%20de%20trabajo%201%20copia%2044.jpg\" width=\"800\">\n",
        "\n",
        "\n",
        "\n",
        "# Certificación profesional de Python\n",
        "\n",
        "# Clase 3\n",
        "\n",
        "El objetivo de la clase es obtener la primera experiencia de trabajo con programación aprendiendo los siguientes temas.\n",
        "\n",
        "*   Loops e iteraciones\n",
        "*   Strings\n",
        "*   Acceso a archivos\n",
        "\n",
        "La clase incluye teoría y práctica sobre cada tema aprendido.\n",
        "\n",
        "<img src=\"https://raw.githubusercontent.com/ITBA-Python/Certificacion-Profesional-Python/main/assets/clase2/LOGOTIPO_sin_fondo_positivo_sin_bajada.png\" width=\"400\">\n",
        "\n"
      ],
      "metadata": {
        "id": "UShQ7MbxF39r"
      }
    },
    {
      "cell_type": "markdown",
      "source": [
        "# Control de flujo\n",
        "\n"
      ],
      "metadata": {
        "id": "c1LTtntUG93L"
      }
    },
    {
      "cell_type": "markdown",
      "source": [
        "El código en Python es **código secuencial**, es decir, cada instrucción es ejecutada una después de la otra. En el siguiente gráfico se muestra el orden de las instrucciones:\n",
        "\n",
        "<img src=\"https://raw.githubusercontent.com/ITBA-Python/Certificacion-Profesional-Python/main/assets/clase3/flujo_secuencial.png\" width=\"150\" style=\"display: block; margin: 0 auto\" />\n",
        "\n",
        "La clase pasada vimos la **estructura if** que nos permite ejecutar código si se cumple una condición:\n",
        "\n",
        "<img src=\"https://raw.githubusercontent.com/ITBA-Python/Certificacion-Profesional-Python/main/assets/clase3/flujo_condicional.png\" width=\"400\" style=\"display: block; margin: 0 auto\" />\n",
        "\n",
        "Esta semana veremos el **flujo iterativo** que nos permite ejecutar código mientras se cumpla una condición.\n",
        "\n",
        "<img src=\"https://raw.githubusercontent.com/ITBA-Python/Certificacion-Profesional-Python/main/assets/clase3/flujo_iterativo.png\" width=\"200\" style=\"display: block; margin: 0 auto\" />\n",
        "\n",
        "Todas las estructuras de control de flujo siguen el siguiente formato en el lenguaje Python:\n",
        "\n",
        "```\n",
        "NOMBRE_ESTRUCTURA parámetros_estructura:\n",
        "    # 4 espacios de separación del margen\n",
        "    codigo que quiero ejecutar\n",
        "```\n",
        "\n",
        "**NOTA IMPORTANTE:** Notar el `:` al final de los parámetros.\n",
        "\n"
      ],
      "metadata": {
        "id": "R2mSLe3XKzW8"
      }
    },
    {
      "cell_type": "markdown",
      "source": [
        "## Estructura if - Repaso\n",
        "Primero veamos un repaso de la estructura if. Esta nos permite realizar una serie de instrucciones si se cumple una condición. Sigue la siguiente sintaxis:\n",
        "```python\n",
        "if condicion1:\n",
        "    # Si se cumple condicion 1\n",
        "    ...\n",
        "elif condicion2:\n",
        "    # Si se cumple condicion 2\n",
        "    ...\n",
        "else:\n",
        "    # Si no se cumple ninguna condición\n",
        "    ...\n",
        "```\n",
        "**NOTA IMPORTANTE:** Notar el `:` al final de los nombres de la estructura.\n",
        "\n",
        "Ejemplo:"
      ],
      "metadata": {
        "id": "MFz_7D0dNZAn"
      }
    },
    {
      "cell_type": "code",
      "source": [
        "# Obtengo input del usuario y lo convierto a entero\n",
        "numero = int(input(\"Ingerse un número: \"))\n",
        "\n",
        "# Si la variable número es mayor a 0\n",
        "if numero > 0:\n",
        "    # Notar los 4 espacios para el bloque de código dentro del if.\n",
        "    print(\"El número es positivo\")\n",
        "\n",
        "# Si la variable es menor a 0\n",
        "elif numero < 0:\n",
        "    print(\"El número es negativo\")\n",
        "\n",
        "# Si no se cumple ninguna de las dos.\n",
        "else:\n",
        "    print(\"El número es 0\")"
      ],
      "metadata": {
        "id": "LO_KXkWENu3l",
        "colab": {
          "base_uri": "https://localhost:8080/"
        },
        "outputId": "ea9edf2b-241d-420b-cdd7-e390a34a56cc"
      },
      "execution_count": 2,
      "outputs": [
        {
          "output_type": "stream",
          "name": "stdout",
          "text": [
            "Ingerse un número: -7\n",
            "El número es negativo\n"
          ]
        }
      ]
    },
    {
      "cell_type": "markdown",
      "source": [
        "## Estructura While\n",
        "\n"
      ],
      "metadata": {
        "id": "C9z2mKBFHB4t"
      }
    },
    {
      "cell_type": "markdown",
      "source": [
        "La estructura while nos permite ejecutar una serie de código mientras se cumpla una condición.\n",
        "\n",
        "Este sigue la estructura:\n",
        "```python\n",
        "while condicion:\n",
        "    # Codigo a ejecutar mientras se cumpla la condición\n",
        "    ...\n",
        "```\n",
        "**NOTA IMPORTANTE:** Notar el `:` al final de los nombres de la estructura y los 4 espacios para el código.\n",
        "\n",
        "Veamos un ejemplo:\n",
        "\n"
      ],
      "metadata": {
        "id": "wkkhSh9wOfV9"
      }
    },
    {
      "cell_type": "code",
      "source": [
        "# Obtengo input del usuario y lo convierto a entero\n",
        "numero = int(input(\"Ingerse un número: \"))\n",
        "\n",
        "# Mientras el numero es mayor a 0\n",
        "while numero > 0:\n",
        "    # Imprimo el número\n",
        "    print(numero)\n",
        "    # Resto uno.\n",
        "    numero -= 1"
      ],
      "metadata": {
        "id": "-t2tQNRnPb2a",
        "colab": {
          "base_uri": "https://localhost:8080/"
        },
        "outputId": "6c95d598-7a16-479f-f025-4f925ab5d7d8"
      },
      "execution_count": 5,
      "outputs": [
        {
          "output_type": "stream",
          "name": "stdout",
          "text": [
            "Ingerse un número: 10\n",
            "10\n",
            "9\n",
            "8\n",
            "7\n",
            "6\n",
            "5\n",
            "4\n",
            "3\n",
            "2\n",
            "1\n"
          ]
        }
      ]
    },
    {
      "cell_type": "markdown",
      "source": [
        "Este programa en cada iteración imprime el número que ingresó el usuario y resta uno hasta que se cumpla que el número sea menor o igual a 0.\n",
        " \n",
        "**NOTA IMPORTANTE:** Utilizamos uno de los operadores combinados que tiene python para operar sobre el número. En vez de realizar `numero = numero - 1` utilizamos el operador `-=`.\n"
      ],
      "metadata": {
        "id": "jI2Ov6Z0Pnnh"
      }
    },
    {
      "cell_type": "markdown",
      "source": [
        "### Mini Desafio 1"
      ],
      "metadata": {
        "id": "nhHFa19TS_Cb"
      }
    },
    {
      "cell_type": "markdown",
      "source": [
        "Desarrollar un programa que permita al usuario ingresar un número y que devuelva la suma de todos los números de 0 hasta ese número. En términos matemáticos:\n",
        " \n",
        "$respuesta = \\sum_{x=0}^{n}x$\n",
        " \n",
        "Para verificar que su resultado es correcto pueden utilizar la fórmula cerrada:\n",
        "$\\sum_{x=0}^{n}x = \\frac{n \\cdot (n+1)}{2} $\n",
        "\n"
      ],
      "metadata": {
        "id": "YsS_AQ3FTCDG"
      }
    },
    {
      "cell_type": "code",
      "source": [
        "# Obtengo input del usuario y lo convierto a entero\n",
        "numero = int(input(\"Ingrese un número: \"))\n",
        "\n",
        "# Mientras el numero es mayor a 0\n",
        "suma = 0\n",
        "numero_aux = numero\n",
        "while numero > 0:\n",
        "    suma += numero \n",
        "    numero -=1\n",
        "print(suma)   \n",
        "\n",
        "\n",
        "assert suma ==   (numero_aux* (numero_aux+1)//2)\n",
        "\n",
        "print(suma,(numero_aux* (numero_aux+1)//2))"
      ],
      "metadata": {
        "id": "zRtt9FjUPnQn",
        "colab": {
          "base_uri": "https://localhost:8080/"
        },
        "outputId": "803925fb-6246-4e56-ad03-347879f800b7"
      },
      "execution_count": 10,
      "outputs": [
        {
          "output_type": "stream",
          "name": "stdout",
          "text": [
            "Ingrese un número: 10\n",
            "55\n",
            "55 55\n"
          ]
        }
      ]
    },
    {
      "cell_type": "code",
      "source": [
        "1_000_000"
      ],
      "metadata": {
        "id": "GrpJFydLsDhR",
        "outputId": "3e982e0c-211c-4f3d-bd52-dedbadef284d",
        "colab": {
          "base_uri": "https://localhost:8080/"
        }
      },
      "execution_count": 11,
      "outputs": [
        {
          "output_type": "execute_result",
          "data": {
            "text/plain": [
              "1000000"
            ]
          },
          "metadata": {},
          "execution_count": 11
        }
      ]
    },
    {
      "cell_type": "markdown",
      "source": [
        "## Estructura for"
      ],
      "metadata": {
        "id": "uZoA4KxdHEFm"
      }
    },
    {
      "cell_type": "markdown",
      "source": [
        "La estructura `for` nos permite iterar por elementos de un conjunto.\n",
        " \n",
        "Esta sigue la siguiente estructura:\n",
        "```python\n",
        "for variable in conjunto:\n",
        "   # Lo que quiero ejecutar\n",
        "   ...\n",
        "```\n",
        "El primer conjunto que utilizaremos es el rango o \"range\". Y es utilizado de la siguiente manera:\n",
        "```python\n",
        "range(inicio, fin, paso)\n",
        "```\n",
        "Esto significa que generará un conjunto de valores que sean mayores o iguales al inicio, menores al fin y con el paso establecido.\n",
        " \n",
        "El paso por defecto es 1, veamos un ejemplo:\n",
        "\n"
      ],
      "metadata": {
        "id": "o_TsWQo8UiR3"
      }
    },
    {
      "cell_type": "code",
      "source": [
        "# Por cada x en el rango 0 4\n",
        "for x in range(0, 4):\n",
        "    # Imprimo la variable x\n",
        "    print(x)\n",
        "\n",
        "# PREGUNTA: Antes de correr el código, cual va a ser la salida del programa?"
      ],
      "metadata": {
        "id": "cqiHvCLcVH_V"
      },
      "execution_count": null,
      "outputs": []
    },
    {
      "cell_type": "markdown",
      "source": [
        "Cambiando el paso"
      ],
      "metadata": {
        "id": "yQu9BhwDVLD7"
      }
    },
    {
      "cell_type": "code",
      "source": [
        "for x in range(0, 10, 2):\n",
        "    print(x)"
      ],
      "metadata": {
        "id": "6FbW0woGVisq"
      },
      "execution_count": null,
      "outputs": []
    },
    {
      "cell_type": "markdown",
      "source": [
        "También podemos iterar sobre cadenas de texto:"
      ],
      "metadata": {
        "id": "uSFB-CjpXHu9"
      }
    },
    {
      "cell_type": "code",
      "source": [
        "# Por cada letra en la cadena\n",
        "for x in \"hola\":\n",
        "    # Imprimo la letra\n",
        "    print(x)"
      ],
      "metadata": {
        "id": "mWXZ8SJWXKZQ"
      },
      "execution_count": null,
      "outputs": []
    },
    {
      "cell_type": "markdown",
      "source": [
        "Más adelante veremos más conjuntos de datos para los cuales el `for` nos será útil.\n",
        " \n",
        "\n"
      ],
      "metadata": {
        "id": "Wyh1EUMQVnc0"
      }
    },
    {
      "cell_type": "markdown",
      "source": [
        "### Mini desafío 2\n"
      ],
      "metadata": {
        "id": "VOxhM7qhVzPz"
      }
    },
    {
      "cell_type": "markdown",
      "source": [
        " \n",
        "Escribir un programa que devuelva la suma de todos los valores pares entre 0 y un número. En términos matemáticos:\n",
        " \n",
        "$respuesta = \\sum_{x=0}^{n/2}2x$\n",
        " \n",
        "Utilizar un for para resolver el problema.\n",
        " \n",
        "\n"
      ],
      "metadata": {
        "id": "7BmpBvqHWo7H"
      }
    },
    {
      "cell_type": "code",
      "source": [],
      "metadata": {
        "id": "h9SiG9AIWXV4"
      },
      "execution_count": null,
      "outputs": []
    },
    {
      "cell_type": "markdown",
      "source": [
        "## Mini desafío 3\n"
      ],
      "metadata": {
        "id": "E4aDU6cmWXpY"
      }
    },
    {
      "cell_type": "markdown",
      "source": [
        "Escribir un programa que genere la siguiente interacción:\n",
        "```\n",
        ">>> Ingrese la cuenta regresiva: 3\n",
        "3\n",
        "2\n",
        "1\n",
        "Despegue!\n",
        "```\n",
        " \n",
        "\n"
      ],
      "metadata": {
        "id": "X-PjRI-VWshD"
      }
    },
    {
      "cell_type": "code",
      "source": [],
      "metadata": {
        "id": "I5ZO502JWtFQ"
      },
      "execution_count": null,
      "outputs": []
    },
    {
      "cell_type": "markdown",
      "source": [
        "## Break y continue"
      ],
      "metadata": {
        "id": "ES0ouRlSHGGP"
      }
    },
    {
      "cell_type": "markdown",
      "source": [
        "Las estructuras de flujo iterativo nos permiten frenarlas desde el código. Para ello utilizamos las palabras `break` o `continue`.\n",
        " \n",
        "### Break\n",
        "La palabra `break` nos permite frenar completamente una iteración desde el código.\n",
        " \n",
        "Veamos un ejemplo:\n",
        " "
      ],
      "metadata": {
        "id": "DHiZTuEvWt1b"
      }
    },
    {
      "cell_type": "code",
      "source": [
        "# Pido un número de iteraciones al usuario\n",
        "numero = int(input(\"Ingrese el número de iteraciones: \"))\n",
        "\n",
        "while numero > 0:\n",
        "    # Si es mayor a 10\n",
        "    if numero > 10:\n",
        "        # Le decimos al usuario que son demasiadas\n",
        "        print(\"Son demasiadas iteraciones para imprimir\")\n",
        "        # Y frenamos el while\n",
        "        break\n",
        "    # Imprimimos x\n",
        "    print(numero)\n",
        "    # Restamos uno al numero\n",
        "    numero -= 1"
      ],
      "metadata": {
        "id": "WA1ylwX3XxMz"
      },
      "execution_count": null,
      "outputs": []
    },
    {
      "cell_type": "markdown",
      "source": [
        "### Continue\n",
        "\n",
        "La palabra `continue` nos permite saltear una iteración sin frenar por completo su ejecución.\n",
        "\n",
        "Veamos un ejemplo:"
      ],
      "metadata": {
        "id": "oPh9dTnvYc54"
      }
    },
    {
      "cell_type": "code",
      "source": [
        "# Por cada i en el rango 0 a 10\n",
        "for i in range(0, 10):\n",
        "    # Si el resto de dividir por dos es 0\n",
        "    if i % 2 == 0:\n",
        "        # Salteamos la iteración\n",
        "        continue\n",
        "    # imprimimos i\n",
        "    print(i)"
      ],
      "metadata": {
        "id": "9hdw2BfNYqmL"
      },
      "execution_count": null,
      "outputs": []
    },
    {
      "cell_type": "markdown",
      "source": [
        "Notar que los únicos números que se imprimen son los números impares, ya que en el continue le dijimos de saltear los números pares."
      ],
      "metadata": {
        "id": "gFy4VdBsY9E9"
      }
    },
    {
      "cell_type": "markdown",
      "source": [
        "## Mini Desafío 4\n",
        " \n",
        "Realizar un programa que únicamente imprima las vocales de una palabra ingresada por el usuario.\n",
        " \n",
        "Ejemplo:\n",
        "```\n",
        ">>> hola\n",
        "o\n",
        "a\n",
        "```\n",
        " "
      ],
      "metadata": {
        "id": "yt4ixqLyZO1H"
      }
    },
    {
      "cell_type": "code",
      "source": [],
      "metadata": {
        "id": "_LM57R7AZlbu"
      },
      "execution_count": null,
      "outputs": []
    },
    {
      "cell_type": "markdown",
      "source": [
        "## Mini desafío 5\n",
        "Realizar un programa que imprima todos los dígitos que ingresó un usuario hasta el primer 0.\n",
        " \n",
        "```\n",
        ">>> 1234401234\n",
        "1\n",
        "2\n",
        "3\n",
        "4\n",
        "4\n",
        "```\n",
        " \n",
        "\n"
      ],
      "metadata": {
        "id": "fPgE5Q0dZl4F"
      }
    },
    {
      "cell_type": "code",
      "source": [],
      "metadata": {
        "id": "-ynXU8u-Z2Lk"
      },
      "execution_count": null,
      "outputs": []
    },
    {
      "cell_type": "markdown",
      "source": [
        "# Strings\n"
      ],
      "metadata": {
        "id": "3BUrNTYDIC_F"
      }
    },
    {
      "cell_type": "markdown",
      "source": [
        "Los strings en python son objetos complejos que nos permiten interactuar con ellos utilizando múltiples funciones y propiedades que ya están embebidas en el objeto en sí."
      ],
      "metadata": {
        "id": "MJs0fb2RZMyr"
      }
    },
    {
      "cell_type": "markdown",
      "source": [
        "## Indexación"
      ],
      "metadata": {
        "id": "ueaIg9QPb5m3"
      }
    },
    {
      "cell_type": "markdown",
      "source": [
        "La interacción más básica es acceder a un carácter, para esto utilizamos la siguiente estructura:\n",
        "```python\n",
        "cadena[indice]\n",
        "```\n",
        "Veamos un ejemplo:\n",
        "\n"
      ],
      "metadata": {
        "id": "3fKhA9-Zb9Ev"
      }
    },
    {
      "cell_type": "code",
      "source": [
        "indice = 1\n",
        "cadena = \"hola\"\n",
        "print(cadena[indice])"
      ],
      "metadata": {
        "id": "wC-DrBNKa7xq"
      },
      "execution_count": null,
      "outputs": []
    },
    {
      "cell_type": "markdown",
      "source": [
        "Notar que el índice comienza de 0 es decir en la string \"hola\" las letras tienen el siguiente índice:\n",
        " \n",
        " \n",
        "*  h -> 0\n",
        "*  o -> 1\n",
        "*  l -> 2\n",
        "*  a -> 3\n",
        " \n",
        "Esto nos permite interactuar con cada letra de la cadena de forma independiente.\n",
        " \n",
        "Pero también podemos pedir un rango de los caracteres:\n",
        " \n",
        "```\n",
        "cadena[comienzo:fin]\n",
        "```\n",
        " \n",
        "Veamos un ejemplo:\n",
        "\n"
      ],
      "metadata": {
        "id": "byF-dRzwbBnd"
      }
    },
    {
      "cell_type": "code",
      "source": [
        "# Antes de correr el código, que imprimira?\n",
        "cadena = \"0123456789\"\n",
        "print(cadena[2:4])"
      ],
      "metadata": {
        "id": "3MjH54RXgTMD"
      },
      "execution_count": null,
      "outputs": []
    },
    {
      "cell_type": "markdown",
      "source": [
        "## len"
      ],
      "metadata": {
        "id": "k1r_IHytb1Sl"
      }
    },
    {
      "cell_type": "markdown",
      "source": [
        " \n",
        "Otra interacción importante con los strings es poder obtener su largo, para ello utilizamos la función `len`:\n",
        " \n",
        "```python\n",
        "len(objeto)\n",
        "```\n",
        " \n",
        "Esta función nos devolverá el largo de la cadena. Veamos un ejemplo\n",
        "\n"
      ],
      "metadata": {
        "id": "3WRGLKv_b3bi"
      }
    },
    {
      "cell_type": "code",
      "source": [
        "# Cual será la salida del código?\n",
        "cadena = \"Hola, como estas?\"\n",
        "\n",
        "print(len(cadena))"
      ],
      "metadata": {
        "id": "FuH60DM9bgnt"
      },
      "execution_count": null,
      "outputs": []
    },
    {
      "cell_type": "markdown",
      "source": [
        "Veamos qué ocurre si realizamos esto con el input de un usuario:\n",
        "\n"
      ],
      "metadata": {
        "id": "csppSVxhcLdQ"
      }
    },
    {
      "cell_type": "code",
      "source": [
        "entrada = input()\n",
        "print(len(entrada))"
      ],
      "metadata": {
        "id": "ScIilZElcWuk"
      },
      "execution_count": null,
      "outputs": []
    },
    {
      "cell_type": "markdown",
      "source": [
        "## Operaciones con strings"
      ],
      "metadata": {
        "id": "8Gymgz_0e0KO"
      }
    },
    {
      "cell_type": "markdown",
      "source": [
        "Podemos realizar operaciones sobre las cadenas como por ejemplo:\n",
        "\n",
        "\n",
        "*   Concatenación o suma ( $ab$)\n",
        "\n"
      ],
      "metadata": {
        "id": "VN49qwTue261"
      }
    },
    {
      "cell_type": "code",
      "source": [
        "a = \"ho\"\n",
        "b = \"la\"\n",
        "\n",
        "# Concateno las dos cadenas\n",
        "c = a + b\n",
        "# Vemos el resultado\n",
        "print(c)"
      ],
      "metadata": {
        "id": "v42cU-RGfLc0"
      },
      "execution_count": null,
      "outputs": []
    },
    {
      "cell_type": "markdown",
      "source": [
        "*   Multiplicación ($n \\cdot a$)"
      ],
      "metadata": {
        "id": "5odHrSSzfTED"
      }
    },
    {
      "cell_type": "code",
      "source": [
        "a = \"ho\"\n",
        "n = 3\n",
        "\n",
        "# Multiplico el string\n",
        "c = n*a\n",
        "# Vemos el resultado\n",
        "print(c)"
      ],
      "metadata": {
        "id": "WGndfGRgfcuy"
      },
      "execution_count": null,
      "outputs": []
    },
    {
      "cell_type": "markdown",
      "source": [
        "*   La función contine o `in`. Nos permite saber si un string contiene a otro"
      ],
      "metadata": {
        "id": "1CjSdIT4fkfY"
      }
    },
    {
      "cell_type": "code",
      "source": [
        "a = \"ol\"\n",
        "b = \"Hola\"\n",
        "\n",
        "# Pregunto si a esta en b\n",
        "c = a in b\n",
        "# Vemos el resultado\n",
        "print(c)"
      ],
      "metadata": {
        "id": "NAE7WRI4fxL5"
      },
      "execution_count": null,
      "outputs": []
    },
    {
      "cell_type": "markdown",
      "source": [
        "Existen muchas más operaciones que podemos realizar sobre las cadenas, podemos ver estas en este [link](https://docs.python.org/3/library/stdtypes.html#string-methods).\n",
        " "
      ],
      "metadata": {
        "id": "jO9EyA93gJPY"
      }
    },
    {
      "cell_type": "markdown",
      "source": [
        "## Caracteres blancos"
      ],
      "metadata": {
        "id": "Q1T5Rs6agEn0"
      }
    },
    {
      "cell_type": "markdown",
      "source": [
        "En los caracteres existe lo que se denomina caracteres blancos, estos son caracteres como el `espacio` o el `enter` que no representan una letra si no una separación entre ellas.\n",
        " \n",
        "Los más usados son el espacio `\" \"` o el enter `\"\\n\"`.\n",
        " \n",
        "Veamos un ejemplo:"
      ],
      "metadata": {
        "id": "nxNybIANcuq6"
      }
    },
    {
      "cell_type": "code",
      "source": [
        "cadena = \"Hola como estas?\\nMi nombre es Juan y te llamo desde la empresa para ...\"\n",
        "print(cadena)"
      ],
      "metadata": {
        "id": "ISa7C0fieKZz"
      },
      "execution_count": null,
      "outputs": []
    },
    {
      "cell_type": "markdown",
      "source": [
        "## Funciones de string\n",
        " \n",
        "Las cadenas tienen muchas funciones dentro de ellas que nos permiten realizar operaciones frecuentemente usadas sobre ellas. La lista completa pueden encontrarla en la página de la documentación oficial de Python en este [link](https://docs.python.org/3/library/stdtypes.html#string-methods).\n",
        " \n",
        "Para utilizar estas funciones utilizamos la siguiente estructura:\n",
        "```\n",
        "cadena.nombre_funcion(parametros)\n",
        "```\n",
        " \n",
        "Veamos un ejemplo:\n"
      ],
      "metadata": {
        "id": "m_sIo06MgiGv"
      }
    },
    {
      "cell_type": "code",
      "source": [
        "cadena = \"hola\"\n",
        "# Capitalizamos la cadena\n",
        "cadena2 = cadena.capitalize()\n",
        "print(cadena)\n",
        "print(cadena2)"
      ],
      "metadata": {
        "id": "DtESlxcfhDTw"
      },
      "execution_count": null,
      "outputs": []
    },
    {
      "cell_type": "markdown",
      "source": [
        "O podemos buscar en el texto el índice de una palabra o letra:"
      ],
      "metadata": {
        "id": "CR-nq4ZthQSA"
      }
    },
    {
      "cell_type": "code",
      "source": [
        "cadena = \"Hola, como estas?\"\n",
        "indice = cadena.find(\"como\")\n",
        "\n",
        "print(indice)"
      ],
      "metadata": {
        "id": "E55DpIEJhVQ9"
      },
      "execution_count": null,
      "outputs": []
    },
    {
      "cell_type": "markdown",
      "source": [
        "**Pregunta**\n",
        "¿Que devolverá el siguiente código?"
      ],
      "metadata": {
        "id": "PwnmQCtS2i4k"
      }
    },
    {
      "cell_type": "code",
      "source": [
        "cadena = \"Hola, como estas?\"\n",
        "indice = cadena.find(\"Como\")\n",
        "\n",
        "print(indice)"
      ],
      "metadata": {
        "id": "7ieHX69K2gf8"
      },
      "execution_count": null,
      "outputs": []
    },
    {
      "cell_type": "markdown",
      "source": [
        "Estos son únicamente algunos ejemplos de funciones que tienen los strings, a medida que vayan aprendiendo a programar irán aprendiendo las que más utilicen de memoria y el resto lo buscaran en google. "
      ],
      "metadata": {
        "id": "yQqJwy3D2VID"
      }
    },
    {
      "cell_type": "markdown",
      "source": [
        "## Mini desafío 6\n",
        " \n",
        "Pedir el input de un string al usuario y decir si esa cadena es un [palindromo](https://es.wikipedia.org/wiki/Pal%C3%ADndromo).\n",
        " \n",
        "Ejemplos:\n",
        "```\n",
        ">>> Hola\n",
        "No es palindromo.\n",
        "```\n",
        "```\n",
        ">>> Neuquen\n",
        "Es palindromo.\n",
        "```\n",
        "```\n",
        ">>> Casa\n",
        "No es palindromo.\n",
        "```\n",
        "```\n",
        ">>> A luna ese anula\n",
        "Es palindromo.\n",
        "```\n",
        " \n",
        "**TIP:** con la función `.lower()` de string pueden convertir las mayúsculas en minúsculas.\n",
        " \n",
        "**TIP2:** Con la función `.replace(a, b)` pueden reemplazar caracteres.\n",
        " \n",
        "\n"
      ],
      "metadata": {
        "id": "NfnJcPYc2_vg"
      }
    },
    {
      "cell_type": "code",
      "source": [],
      "metadata": {
        "id": "4Lz7EePQ3pxJ"
      },
      "execution_count": null,
      "outputs": []
    },
    {
      "cell_type": "markdown",
      "source": [
        "# Acceso a archivos\n"
      ],
      "metadata": {
        "id": "W9_Rnm_FIItx"
      }
    },
    {
      "cell_type": "markdown",
      "source": [
        "Para trabajar con archivos vamos a utilizar una estructura que nos facilita su manipulación y lectura.\n",
        "\n",
        "```python\n",
        "with open(\"/ruta/del/archivo/\", modo_de_acceso) as fp:\n",
        "    # lo que necesite hacer con el archivo\n",
        "    ...\n",
        "```\n",
        "\n",
        "Algunos modos de acceso disponibles son:\n",
        "\n",
        "\n",
        "*   `\"r\"`: Lectura.\n",
        "*   `\"w\"`: Escritura.\n",
        "*   `\"rw\"`: Lectura y escritura.\n",
        "*   `\"rb\"`: Lectura binaria.\n",
        "*   `\"wb\"`: Escritura binaria.\n",
        "\n",
        "Pueden ver todos en este [link](https://docs.python.org/3/library/functions.html#open).\n",
        "\n",
        "Veamos un ejemplo de escritura:\n"
      ],
      "metadata": {
        "id": "_pN5fWbi24H9"
      }
    },
    {
      "cell_type": "code",
      "source": [
        "# Abro el archivo en modo escritura y lo asigno a la variable fp\n",
        "with open(\"archivo.txt\", \"w\") as fp:\n",
        "    # Escribo en fp un texto.\n",
        "    fp.write(\"Hola como estas?\\n\")\n"
      ],
      "metadata": {
        "id": "ulkteQ4zDhHO"
      },
      "execution_count": null,
      "outputs": []
    },
    {
      "cell_type": "markdown",
      "source": [
        "Para ver el resultado podemos seleccionar la carpeta del menú de la izquierda, y abrir el archivo llamado `archivo.txt` para ver su contenido.\n",
        " \n",
        "Luego podemos leer este archivo:"
      ],
      "metadata": {
        "id": "cMiovtFmDrMj"
      }
    },
    {
      "cell_type": "code",
      "execution_count": null,
      "metadata": {
        "id": "6eqUaxXKFc2f"
      },
      "outputs": [],
      "source": [
        "# Abro el archivo en modo lectura y lo asigno a la variable fp\n",
        "with open(\"archivo.txt\", \"r\") as fp:\n",
        "    # Imprimo lo que leo del archivo.\n",
        "    print(fp.read())"
      ]
    },
    {
      "cell_type": "markdown",
      "source": [
        "Al igual que los strings el archivo tiene muchas funciones embebidas que nos permiten trabajar con él.\n",
        " \n",
        "Veamos el siguiente ejemplo:\n",
        "\n"
      ],
      "metadata": {
        "id": "yfjRXIhpENnM"
      }
    },
    {
      "cell_type": "code",
      "source": [
        "# Abro el archivo en modo escritura y lo asigno a la variable fp2\n",
        "with open(\"archivo2.txt\", \"w\") as fp2:\n",
        "    # Escribo en fp2 un texto.\n",
        "    fp2.write(\"Hola como estas?\\nMuy bien y vos?\\nBien bien, aca aprendido un poco de python.\")\n",
        "\n",
        "# Abro el archivo en modo lectura y lo asigno a la variable fp2\n",
        "with open(\"archivo2.txt\", \"r\") as fp2:\n",
        "    # leo la primera linea\n",
        "    print(fp2.readline())\n",
        "    # leo la segunda linea\n",
        "    print(fp2.readline())\n",
        "    # leo la tercera linea\n",
        "    print(fp2.readline())"
      ],
      "metadata": {
        "id": "hfAWGZm4En6T"
      },
      "execution_count": null,
      "outputs": []
    },
    {
      "cell_type": "markdown",
      "source": [
        "La función `.readline()` nos devuelve hasta el enter.\n",
        " \n",
        "**Pregunta**: Porque en la salida de ese código hay dos enter entre cada frase?"
      ],
      "metadata": {
        "id": "X6NZalmiFcW3"
      }
    },
    {
      "cell_type": "markdown",
      "source": [
        "# Ejercicios integradores\n"
      ],
      "metadata": {
        "id": "vttbHJROYTp8"
      }
    },
    {
      "cell_type": "markdown",
      "source": [
        "## 1. Calculadora 3.0\n",
        "Se pide implementar una calculadora interactiva que permita ingresar operaciones hasta recibir el comando `off`.\n",
        " \n",
        "Veamos un ejemplo:\n",
        "```\n",
        ">>> 14\n",
        ">>> +\n",
        ">>> 3\n",
        "17\n",
        ">>> *\n",
        ">>> 2\n",
        "34\n",
        ">>> /\n",
        ">>> 3\n",
        "11.333333\n",
        ">>> off\n",
        "```\n",
        " \n",
        "**TIP:** Usar la estructura `while`.\n"
      ],
      "metadata": {
        "id": "PHzqQt7xYVov"
      }
    },
    {
      "cell_type": "code",
      "source": [],
      "metadata": {
        "id": "X_O7x6e-ELTL"
      },
      "execution_count": null,
      "outputs": []
    },
    {
      "cell_type": "markdown",
      "source": [
        "## 2. Conjetura de Collatz\n",
        "El matemático Lothar Collatz conjeturo que la siguiente secuencia siempre converge a 1 en una cantidad finita de pasos para todo número entero positivo.\n",
        " \n",
        "*  Si el número es par, lo divido por 2.\n",
        "*  Si el número es impar, lo multiplico por 3 y le sumo 1.\n",
        " \n",
        "En términos matemáticos:\n",
        " \n",
        "si $f(n)$ es par &nbsp;&nbsp;&nbsp;&nbsp; $f(n+1) = \\frac{f(n)}{2}$\n",
        " \n",
        "si $f(n)$ es impar $f(n+1) = 3 \\cdot f(n) +1$\n",
        " \n",
        "La secuencia se inicia con $f(0)$ con un número provisto por el usuario.\n",
        " \n",
        "Se pide imprimir la cantidad de pasos necesarios para llegar a 1.\n",
        " \n",
        "Ejemplo:\n",
        " \n",
        "$3 → 10 → 5 → 16 → 8 → 4 → 2 → 1$\n",
        " \n",
        "```\n",
        ">>> 3\n",
        "7\n",
        "```\n",
        " \n",
        "$4 → 2 → 1$\n",
        " \n",
        "```\n",
        ">>> 4\n",
        "2\n",
        "```\n"
      ],
      "metadata": {
        "id": "SltD_0FTYwUC"
      }
    },
    {
      "cell_type": "code",
      "source": [],
      "metadata": {
        "id": "FZkVSyBPbo6O"
      },
      "execution_count": null,
      "outputs": []
    },
    {
      "cell_type": "markdown",
      "source": [
        "## 3. Triángulo rectángulo\n",
        " \n",
        "Escribir un programa que reciba la altura de un triángulo e imprima en la consola el triángulo pedido.\n",
        " \n",
        "Ejemplos:\n",
        "```\n",
        ">>> 3\n",
        "|\\\n",
        "| \\\n",
        "|__\\\n",
        "```\n",
        "```\n",
        ">>> 4\n",
        "|\\\n",
        "| \\\n",
        "|  \\\n",
        "|___\\\n",
        "```"
      ],
      "metadata": {
        "id": "93gR4raNd8PW"
      }
    },
    {
      "cell_type": "code",
      "source": [],
      "metadata": {
        "id": "ggsyNj2rhvTM"
      },
      "execution_count": null,
      "outputs": []
    },
    {
      "cell_type": "markdown",
      "source": [
        "## 4. Triángulo de pascal\n",
        " \n",
        "Escribir un programa que imprima el [triángulo de pascal](https://es.wikipedia.org/wiki/Tri%C3%A1ngulo_de_Pascal) de altura n.\n",
        " \n",
        "Ejemplo:\n",
        "```\n",
        ">>> 2\n",
        "1\n",
        "1 1\n",
        "```\n",
        "```\n",
        ">>> 3\n",
        " 1\n",
        "1 1\n",
        "1 2 1\n",
        "```\n",
        "```\n",
        ">>> 4\n",
        "  1\n",
        " 1 1\n",
        "1 2 1\n",
        "1 3 3 1\n",
        "```"
      ],
      "metadata": {
        "id": "hEoJOeBlh7Us"
      }
    },
    {
      "cell_type": "code",
      "source": [],
      "metadata": {
        "id": "bEgnuVExiXOC"
      },
      "execution_count": null,
      "outputs": []
    }
  ]
}